{
 "cells": [
  {
   "cell_type": "code",
   "execution_count": 1,
   "id": "4febc74a-d817-4411-8351-4651e77821f2",
   "metadata": {},
   "outputs": [],
   "source": [
    "import pandas as pd\n",
    "import numpy as np\n",
    "import matplotlib.pyplot as plt\n",
    "import seaborn as sns"
   ]
  },
  {
   "cell_type": "code",
   "execution_count": 2,
   "id": "8c101c2b-a006-4ead-b10b-b65415873e07",
   "metadata": {},
   "outputs": [
    {
     "data": {
      "text/html": [
       "<div>\n",
       "<style scoped>\n",
       "    .dataframe tbody tr th:only-of-type {\n",
       "        vertical-align: middle;\n",
       "    }\n",
       "\n",
       "    .dataframe tbody tr th {\n",
       "        vertical-align: top;\n",
       "    }\n",
       "\n",
       "    .dataframe thead th {\n",
       "        text-align: right;\n",
       "    }\n",
       "</style>\n",
       "<table border=\"1\" class=\"dataframe\">\n",
       "  <thead>\n",
       "    <tr style=\"text-align: right;\">\n",
       "      <th></th>\n",
       "      <th>Review</th>\n",
       "      <th>Liked</th>\n",
       "    </tr>\n",
       "  </thead>\n",
       "  <tbody>\n",
       "    <tr>\n",
       "      <th>0</th>\n",
       "      <td>Wow... Loved this place.</td>\n",
       "      <td>1</td>\n",
       "    </tr>\n",
       "    <tr>\n",
       "      <th>1</th>\n",
       "      <td>Crust is not good.</td>\n",
       "      <td>0</td>\n",
       "    </tr>\n",
       "    <tr>\n",
       "      <th>2</th>\n",
       "      <td>Not tasty and the texture was just nasty.</td>\n",
       "      <td>0</td>\n",
       "    </tr>\n",
       "    <tr>\n",
       "      <th>3</th>\n",
       "      <td>Stopped by during the late May bank holiday of...</td>\n",
       "      <td>1</td>\n",
       "    </tr>\n",
       "    <tr>\n",
       "      <th>4</th>\n",
       "      <td>The selection on the menu was great and so wer...</td>\n",
       "      <td>1</td>\n",
       "    </tr>\n",
       "    <tr>\n",
       "      <th>5</th>\n",
       "      <td>Now I am getting angry and I want my damn pho.</td>\n",
       "      <td>0</td>\n",
       "    </tr>\n",
       "    <tr>\n",
       "      <th>6</th>\n",
       "      <td>Honeslty it didn't taste THAT fresh.)</td>\n",
       "      <td>0</td>\n",
       "    </tr>\n",
       "    <tr>\n",
       "      <th>7</th>\n",
       "      <td>The potatoes were like rubber and you could te...</td>\n",
       "      <td>0</td>\n",
       "    </tr>\n",
       "    <tr>\n",
       "      <th>8</th>\n",
       "      <td>The fries were great too.</td>\n",
       "      <td>1</td>\n",
       "    </tr>\n",
       "    <tr>\n",
       "      <th>9</th>\n",
       "      <td>A great touch.</td>\n",
       "      <td>1</td>\n",
       "    </tr>\n",
       "  </tbody>\n",
       "</table>\n",
       "</div>"
      ],
      "text/plain": [
       "                                              Review  Liked\n",
       "0                           Wow... Loved this place.      1\n",
       "1                                 Crust is not good.      0\n",
       "2          Not tasty and the texture was just nasty.      0\n",
       "3  Stopped by during the late May bank holiday of...      1\n",
       "4  The selection on the menu was great and so wer...      1\n",
       "5     Now I am getting angry and I want my damn pho.      0\n",
       "6              Honeslty it didn't taste THAT fresh.)      0\n",
       "7  The potatoes were like rubber and you could te...      0\n",
       "8                          The fries were great too.      1\n",
       "9                                     A great touch.      1"
      ]
     },
     "execution_count": 2,
     "metadata": {},
     "output_type": "execute_result"
    }
   ],
   "source": [
    "data = pd.read_csv('Restaurant_Reviews.csv')\n",
    "data.head(10)"
   ]
  },
  {
   "cell_type": "markdown",
   "id": "74c737eb-8451-4d69-af34-07e080350ed9",
   "metadata": {},
   "source": [
    "## Data Exploration and Cleaning"
   ]
  },
  {
   "cell_type": "code",
   "execution_count": 3,
   "id": "49089b63-5fc7-4a18-a590-2899a1c8df3c",
   "metadata": {},
   "outputs": [],
   "source": [
    "cleaned_data = data.copy()\n"
   ]
  },
  {
   "cell_type": "code",
   "execution_count": 4,
   "id": "41fa7cb8-4d61-44ee-91ba-dadb79effd9d",
   "metadata": {},
   "outputs": [
    {
     "data": {
      "text/html": [
       "<div>\n",
       "<style scoped>\n",
       "    .dataframe tbody tr th:only-of-type {\n",
       "        vertical-align: middle;\n",
       "    }\n",
       "\n",
       "    .dataframe tbody tr th {\n",
       "        vertical-align: top;\n",
       "    }\n",
       "\n",
       "    .dataframe thead th {\n",
       "        text-align: right;\n",
       "    }\n",
       "</style>\n",
       "<table border=\"1\" class=\"dataframe\">\n",
       "  <thead>\n",
       "    <tr style=\"text-align: right;\">\n",
       "      <th></th>\n",
       "      <th>Review</th>\n",
       "      <th>Liked</th>\n",
       "    </tr>\n",
       "  </thead>\n",
       "  <tbody>\n",
       "    <tr>\n",
       "      <th>0</th>\n",
       "      <td>Wow... Loved this place.</td>\n",
       "      <td>1</td>\n",
       "    </tr>\n",
       "    <tr>\n",
       "      <th>1</th>\n",
       "      <td>Crust is not good.</td>\n",
       "      <td>0</td>\n",
       "    </tr>\n",
       "    <tr>\n",
       "      <th>2</th>\n",
       "      <td>Not tasty and the texture was just nasty.</td>\n",
       "      <td>0</td>\n",
       "    </tr>\n",
       "    <tr>\n",
       "      <th>3</th>\n",
       "      <td>Stopped by during the late May bank holiday of...</td>\n",
       "      <td>1</td>\n",
       "    </tr>\n",
       "    <tr>\n",
       "      <th>4</th>\n",
       "      <td>The selection on the menu was great and so wer...</td>\n",
       "      <td>1</td>\n",
       "    </tr>\n",
       "    <tr>\n",
       "      <th>...</th>\n",
       "      <td>...</td>\n",
       "      <td>...</td>\n",
       "    </tr>\n",
       "    <tr>\n",
       "      <th>995</th>\n",
       "      <td>I think food should have flavor and texture an...</td>\n",
       "      <td>0</td>\n",
       "    </tr>\n",
       "    <tr>\n",
       "      <th>996</th>\n",
       "      <td>Appetite instantly gone.</td>\n",
       "      <td>0</td>\n",
       "    </tr>\n",
       "    <tr>\n",
       "      <th>997</th>\n",
       "      <td>Overall I was not impressed and would not go b...</td>\n",
       "      <td>0</td>\n",
       "    </tr>\n",
       "    <tr>\n",
       "      <th>998</th>\n",
       "      <td>The whole experience was underwhelming, and I ...</td>\n",
       "      <td>0</td>\n",
       "    </tr>\n",
       "    <tr>\n",
       "      <th>999</th>\n",
       "      <td>Then, as if I hadn't wasted enough of my life ...</td>\n",
       "      <td>0</td>\n",
       "    </tr>\n",
       "  </tbody>\n",
       "</table>\n",
       "<p>1000 rows × 2 columns</p>\n",
       "</div>"
      ],
      "text/plain": [
       "                                                Review  Liked\n",
       "0                             Wow... Loved this place.      1\n",
       "1                                   Crust is not good.      0\n",
       "2            Not tasty and the texture was just nasty.      0\n",
       "3    Stopped by during the late May bank holiday of...      1\n",
       "4    The selection on the menu was great and so wer...      1\n",
       "..                                                 ...    ...\n",
       "995  I think food should have flavor and texture an...      0\n",
       "996                           Appetite instantly gone.      0\n",
       "997  Overall I was not impressed and would not go b...      0\n",
       "998  The whole experience was underwhelming, and I ...      0\n",
       "999  Then, as if I hadn't wasted enough of my life ...      0\n",
       "\n",
       "[1000 rows x 2 columns]"
      ]
     },
     "execution_count": 4,
     "metadata": {},
     "output_type": "execute_result"
    }
   ],
   "source": [
    "cleaned_data"
   ]
  },
  {
   "cell_type": "code",
   "execution_count": 5,
   "id": "6f5f5b1b-a6ce-47ce-bcbb-a9838de98a1d",
   "metadata": {},
   "outputs": [
    {
     "data": {
      "text/plain": [
       "Liked\n",
       "1    500\n",
       "0    500\n",
       "Name: count, dtype: int64"
      ]
     },
     "execution_count": 5,
     "metadata": {},
     "output_type": "execute_result"
    }
   ],
   "source": [
    "cleaned_data['Liked'].value_counts()"
   ]
  },
  {
   "cell_type": "code",
   "execution_count": 6,
   "id": "0794b5e6-4c6a-42fd-b3dd-82db33487c6c",
   "metadata": {},
   "outputs": [
    {
     "data": {
      "text/plain": [
       "Review    False\n",
       "Liked     False\n",
       "dtype: bool"
      ]
     },
     "execution_count": 6,
     "metadata": {},
     "output_type": "execute_result"
    }
   ],
   "source": [
    "cleaned_data.isna().any()"
   ]
  },
  {
   "cell_type": "code",
   "execution_count": 7,
   "id": "dc675b11-3dcf-44b7-a24d-65626c1f80e1",
   "metadata": {},
   "outputs": [
    {
     "data": {
      "text/html": [
       "<div>\n",
       "<style scoped>\n",
       "    .dataframe tbody tr th:only-of-type {\n",
       "        vertical-align: middle;\n",
       "    }\n",
       "\n",
       "    .dataframe tbody tr th {\n",
       "        vertical-align: top;\n",
       "    }\n",
       "\n",
       "    .dataframe thead th {\n",
       "        text-align: right;\n",
       "    }\n",
       "</style>\n",
       "<table border=\"1\" class=\"dataframe\">\n",
       "  <thead>\n",
       "    <tr style=\"text-align: right;\">\n",
       "      <th></th>\n",
       "      <th>Review</th>\n",
       "      <th>Liked</th>\n",
       "    </tr>\n",
       "  </thead>\n",
       "  <tbody>\n",
       "    <tr>\n",
       "      <th>0</th>\n",
       "      <td>Wow... Loved this place.</td>\n",
       "      <td>1</td>\n",
       "    </tr>\n",
       "    <tr>\n",
       "      <th>1</th>\n",
       "      <td>Crust is not good.</td>\n",
       "      <td>0</td>\n",
       "    </tr>\n",
       "    <tr>\n",
       "      <th>2</th>\n",
       "      <td>Not tasty and the texture was just nasty.</td>\n",
       "      <td>0</td>\n",
       "    </tr>\n",
       "    <tr>\n",
       "      <th>3</th>\n",
       "      <td>Stopped by during the late May bank holiday of...</td>\n",
       "      <td>1</td>\n",
       "    </tr>\n",
       "    <tr>\n",
       "      <th>4</th>\n",
       "      <td>The selection on the menu was great and so wer...</td>\n",
       "      <td>1</td>\n",
       "    </tr>\n",
       "    <tr>\n",
       "      <th>5</th>\n",
       "      <td>Now I am getting angry and I want my damn pho.</td>\n",
       "      <td>0</td>\n",
       "    </tr>\n",
       "    <tr>\n",
       "      <th>6</th>\n",
       "      <td>Honeslty it didn't taste THAT fresh.)</td>\n",
       "      <td>0</td>\n",
       "    </tr>\n",
       "    <tr>\n",
       "      <th>7</th>\n",
       "      <td>The potatoes were like rubber and you could te...</td>\n",
       "      <td>0</td>\n",
       "    </tr>\n",
       "    <tr>\n",
       "      <th>8</th>\n",
       "      <td>The fries were great too.</td>\n",
       "      <td>1</td>\n",
       "    </tr>\n",
       "    <tr>\n",
       "      <th>9</th>\n",
       "      <td>A great touch.</td>\n",
       "      <td>1</td>\n",
       "    </tr>\n",
       "  </tbody>\n",
       "</table>\n",
       "</div>"
      ],
      "text/plain": [
       "                                              Review  Liked\n",
       "0                           Wow... Loved this place.      1\n",
       "1                                 Crust is not good.      0\n",
       "2          Not tasty and the texture was just nasty.      0\n",
       "3  Stopped by during the late May bank holiday of...      1\n",
       "4  The selection on the menu was great and so wer...      1\n",
       "5     Now I am getting angry and I want my damn pho.      0\n",
       "6              Honeslty it didn't taste THAT fresh.)      0\n",
       "7  The potatoes were like rubber and you could te...      0\n",
       "8                          The fries were great too.      1\n",
       "9                                     A great touch.      1"
      ]
     },
     "execution_count": 7,
     "metadata": {},
     "output_type": "execute_result"
    }
   ],
   "source": [
    "cleaned_data.head(10)"
   ]
  },
  {
   "cell_type": "markdown",
   "id": "8cd001b3-127a-426f-a533-66294051ef40",
   "metadata": {},
   "source": [
    "From the sample of the dataset above, there are some symbols that need to be removed amongst other preprocessing. Let's write a pipeline that will take care of this."
   ]
  },
  {
   "cell_type": "code",
   "execution_count": 8,
   "id": "d701d313-6270-488a-9938-db658823bf67",
   "metadata": {},
   "outputs": [],
   "source": [
    "import contractions\n",
    "import re\n",
    "from nltk.corpus import stopwords\n",
    "\n",
    "stop_words = stopwords.words('english') \n",
    "stop_words.remove('not') # since \"not\" affects the sentiment of the review.\n",
    "\n",
    "def fix_contractions(text):\n",
    "    return contractions.fix(text)\n",
    "    \n",
    "def remove_punctuations(text):\n",
    "    return re.sub('[^a-zA-Z]', ' ', text)\n",
    "\n",
    "def convert_to_lower(text):\n",
    "    return text.lower()\n",
    " \n",
    "def remove_stopwords(text):\n",
    "    return  ' '.join(word for word in text.split() if word not in stop_words) \n",
    "\n",
    "def preprocess(text):\n",
    "    text = fix_contractions(text)\n",
    "    text = remove_punctuations(text)\n",
    "    text = convert_to_lower(text)\n",
    "    text = remove_stopwords(text)\n",
    "    return text\n",
    "\n",
    "cleaned_data['Review'] = cleaned_data['Review'].apply(preprocess)"
   ]
  },
  {
   "cell_type": "code",
   "execution_count": 9,
   "id": "a5ebff6e-96e5-49cb-853e-9103e80e99db",
   "metadata": {},
   "outputs": [
    {
     "data": {
      "text/plain": [
       "0                                        wow loved place\n",
       "1                                         crust not good\n",
       "2                                not tasty texture nasty\n",
       "3      stopped late may bank holiday rick steve recom...\n",
       "4                            selection menu great prices\n",
       "                             ...                        \n",
       "995                    think food flavor texture lacking\n",
       "996                              appetite instantly gone\n",
       "997              overall not impressed would not go back\n",
       "998    whole experience underwhelming think go ninja ...\n",
       "999    not wasted enough life poured salt wound drawi...\n",
       "Name: Review, Length: 1000, dtype: object"
      ]
     },
     "execution_count": 9,
     "metadata": {},
     "output_type": "execute_result"
    }
   ],
   "source": [
    "cleaned_data['Review']"
   ]
  },
  {
   "cell_type": "markdown",
   "id": "779ee4e6-0f2f-4d7c-8ff9-b6cf9ad17e12",
   "metadata": {},
   "source": [
    "Now we'll need to convert our preprocessed text into usable features that can be processed by the selected algorithms."
   ]
  },
  {
   "cell_type": "markdown",
   "id": "9503c8f2-9565-4c97-b4a2-0eccd727c7b1",
   "metadata": {},
   "source": [
    "## Feature Engineering"
   ]
  },
  {
   "cell_type": "code",
   "execution_count": 10,
   "id": "f1cd6aeb-7a48-45e1-812c-59695642ec24",
   "metadata": {},
   "outputs": [],
   "source": [
    "from sklearn.feature_extraction.text import TfidfVectorizer\n",
    "vectorizer = TfidfVectorizer()"
   ]
  },
  {
   "cell_type": "code",
   "execution_count": 11,
   "id": "f0516492-9028-4699-8138-ea22c86d674a",
   "metadata": {},
   "outputs": [
    {
     "data": {
      "text/plain": [
       "(1000, 1883)"
      ]
     },
     "execution_count": 11,
     "metadata": {},
     "output_type": "execute_result"
    }
   ],
   "source": [
    "vectorized_data = vectorizer.fit_transform(cleaned_data['Review']).toarray() # sparse matrix to array\n",
    "vectorized_data.shape"
   ]
  },
  {
   "cell_type": "code",
   "execution_count": 12,
   "id": "18945ae6-9090-4f9e-a2df-fb2a5bd78921",
   "metadata": {
    "scrolled": true
   },
   "outputs": [
    {
     "data": {
      "text/plain": [
       "{'wow': 1863,\n",
       " 'loved': 958,\n",
       " 'place': 1225,\n",
       " 'crust': 376,\n",
       " 'not': 1101,\n",
       " 'good': 699,\n",
       " 'tasty': 1647,\n",
       " 'texture': 1660,\n",
       " 'nasty': 1076,\n",
       " 'stopped': 1586,\n",
       " 'late': 903,\n",
       " 'may': 999,\n",
       " 'bank': 102,\n",
       " 'holiday': 790,\n",
       " 'rick': 1381,\n",
       " 'steve': 1578,\n",
       " 'recommendation': 1338,\n",
       " 'selection': 1452,\n",
       " 'menu': 1021,\n",
       " 'great': 713,\n",
       " 'prices': 1269,\n",
       " 'getting': 681,\n",
       " 'angry': 34,\n",
       " 'want': 1801,\n",
       " 'damn': 387,\n",
       " 'pho': 1211,\n",
       " 'honeslty': 793,\n",
       " 'taste': 1643,\n",
       " 'fresh': 650,\n",
       " 'potatoes': 1257,\n",
       " 'like': 929,\n",
       " 'rubber': 1398,\n",
       " 'could': 345,\n",
       " 'tell': 1652,\n",
       " 'made': 973,\n",
       " 'ahead': 16,\n",
       " 'time': 1683,\n",
       " 'kept': 881,\n",
       " 'warmer': 1805,\n",
       " 'fries': 656,\n",
       " 'touch': 1705,\n",
       " 'service': 1465,\n",
       " 'prompt': 1281,\n",
       " 'would': 1861,\n",
       " 'go': 692,\n",
       " 'back': 93,\n",
       " 'cashier': 246,\n",
       " 'care': 237,\n",
       " 'ever': 545,\n",
       " 'say': 1430,\n",
       " 'still': 1580,\n",
       " 'ended': 525,\n",
       " 'wayyy': 1818,\n",
       " 'overpriced': 1151,\n",
       " 'tried': 1718,\n",
       " 'cape': 233,\n",
       " 'cod': 299,\n",
       " 'ravoli': 1321,\n",
       " 'chicken': 271,\n",
       " 'cranberry': 361,\n",
       " 'mmmm': 1044,\n",
       " 'disgusted': 454,\n",
       " 'pretty': 1266,\n",
       " 'sure': 1624,\n",
       " 'human': 814,\n",
       " 'hair': 740,\n",
       " 'shocked': 1478,\n",
       " 'signs': 1494,\n",
       " 'indicate': 843,\n",
       " 'cash': 244,\n",
       " 'highly': 783,\n",
       " 'recommended': 1339,\n",
       " 'waitress': 1796,\n",
       " 'little': 939,\n",
       " 'slow': 1509,\n",
       " 'worth': 1860,\n",
       " 'let': 919,\n",
       " 'alone': 24,\n",
       " 'vegas': 1767,\n",
       " 'burrittos': 210,\n",
       " 'blah': 155,\n",
       " 'food': 635,\n",
       " 'amazing': 28,\n",
       " 'also': 25,\n",
       " 'cute': 385,\n",
       " 'less': 918,\n",
       " 'interior': 858,\n",
       " 'beautiful': 123,\n",
       " 'performed': 1201,\n",
       " 'right': 1383,\n",
       " 'red': 1341,\n",
       " 'velvet': 1772,\n",
       " 'cake': 223,\n",
       " 'ohhh': 1116,\n",
       " 'stuff': 1598,\n",
       " 'name': 1073,\n",
       " 'hole': 789,\n",
       " 'wall': 1799,\n",
       " 'mexican': 1026,\n",
       " 'street': 1591,\n",
       " 'tacos': 1633,\n",
       " 'friendly': 654,\n",
       " 'staff': 1561,\n",
       " 'took': 1697,\n",
       " 'hour': 808,\n",
       " 'get': 679,\n",
       " 'tables': 1631,\n",
       " 'restaurant': 1366,\n",
       " 'luke': 968,\n",
       " 'warm': 1804,\n",
       " 'sever': 1470,\n",
       " 'running': 1401,\n",
       " 'around': 59,\n",
       " 'totally': 1703,\n",
       " 'overwhelmed': 1152,\n",
       " 'worst': 1859,\n",
       " 'salmon': 1411,\n",
       " 'sashimi': 1421,\n",
       " 'combos': 307,\n",
       " 'burger': 207,\n",
       " 'beer': 128,\n",
       " 'decent': 396,\n",
       " 'deal': 394,\n",
       " 'final': 607,\n",
       " 'blow': 164,\n",
       " 'found': 643,\n",
       " 'accident': 3,\n",
       " 'happier': 753,\n",
       " 'seems': 1450,\n",
       " 'quick': 1303,\n",
       " 'grab': 706,\n",
       " 'bite': 151,\n",
       " 'familiar': 580,\n",
       " 'pub': 1289,\n",
       " 'favor': 591,\n",
       " 'look': 948,\n",
       " 'elsewhere': 519,\n",
       " 'overall': 1148,\n",
       " 'lot': 954,\n",
       " 'redeeming': 1342,\n",
       " 'quality': 1301,\n",
       " 'inexpensive': 846,\n",
       " 'ample': 32,\n",
       " 'portions': 1252,\n",
       " 'poor': 1247,\n",
       " 'waiter': 1794,\n",
       " 'feel': 594,\n",
       " 'stupid': 1600,\n",
       " 'every': 546,\n",
       " 'came': 229,\n",
       " 'table': 1630,\n",
       " 'first': 615,\n",
       " 'visit': 1784,\n",
       " 'hiro': 786,\n",
       " 'delight': 414,\n",
       " 'sucks': 1610,\n",
       " 'shrimp': 1489,\n",
       " 'tender': 1655,\n",
       " 'moist': 1046,\n",
       " 'enough': 530,\n",
       " 'drag': 475,\n",
       " 'establishment': 537,\n",
       " 'hard': 755,\n",
       " 'judge': 876,\n",
       " 'whether': 1832,\n",
       " 'sides': 1492,\n",
       " 'grossed': 726,\n",
       " 'melted': 1018,\n",
       " 'styrofoam': 1602,\n",
       " 'eat': 500,\n",
       " 'fear': 593,\n",
       " 'sick': 1490,\n",
       " 'positive': 1253,\n",
       " 'note': 1102,\n",
       " 'server': 1462,\n",
       " 'attentive': 75,\n",
       " 'provided': 1286,\n",
       " 'frozen': 658,\n",
       " 'pucks': 1292,\n",
       " 'disgust': 453,\n",
       " 'people': 1196,\n",
       " 'behind': 131,\n",
       " 'register': 1349,\n",
       " 'thing': 1666,\n",
       " 'prime': 1272,\n",
       " 'rib': 1378,\n",
       " 'dessert': 427,\n",
       " 'section': 1447,\n",
       " 'bad': 95,\n",
       " 'generic': 676,\n",
       " 'beef': 127,\n",
       " 'cooked': 336,\n",
       " 'sandwich': 1418,\n",
       " 'firehouse': 614,\n",
       " 'side': 1491,\n",
       " 'greek': 716,\n",
       " 'salad': 1409,\n",
       " 'dressing': 481,\n",
       " 'pita': 1222,\n",
       " 'hummus': 816,\n",
       " 'refreshing': 1346,\n",
       " 'ordered': 1134,\n",
       " 'duck': 493,\n",
       " 'rare': 1311,\n",
       " 'pink': 1220,\n",
       " 'inside': 851,\n",
       " 'nice': 1090,\n",
       " 'char': 255,\n",
       " 'outside': 1144,\n",
       " 'us': 1756,\n",
       " 'realized': 1326,\n",
       " 'husband': 820,\n",
       " 'left': 913,\n",
       " 'sunglasses': 1621,\n",
       " 'chow': 281,\n",
       " 'mein': 1015,\n",
       " 'horrible': 802,\n",
       " 'attitudes': 76,\n",
       " 'towards': 1708,\n",
       " 'customers': 382,\n",
       " 'talk': 1637,\n",
       " 'one': 1124,\n",
       " 'enjoy': 527,\n",
       " 'portion': 1251,\n",
       " 'huge': 813,\n",
       " 'servers': 1463,\n",
       " 'wonderful': 1847,\n",
       " 'imaginative': 829,\n",
       " 'heart': 766,\n",
       " 'attack': 73,\n",
       " 'grill': 720,\n",
       " 'downtown': 474,\n",
       " 'absolutely': 1,\n",
       " 'flat': 619,\n",
       " 'lined': 935,\n",
       " 'excuse': 555,\n",
       " 'much': 1062,\n",
       " 'seafood': 1438,\n",
       " 'strings': 1594,\n",
       " 'pasta': 1179,\n",
       " 'bottom': 176,\n",
       " 'amount': 31,\n",
       " 'sauce': 1426,\n",
       " 'power': 1260,\n",
       " 'scallop': 1433,\n",
       " 'perfectly': 1200,\n",
       " 'ripped': 1386,\n",
       " 'banana': 101,\n",
       " 'petrified': 1207,\n",
       " 'tasteless': 1645,\n",
       " 'least': 909,\n",
       " 'think': 1668,\n",
       " 'refill': 1344,\n",
       " 'water': 1813,\n",
       " 'struggle': 1597,\n",
       " 'wave': 1815,\n",
       " 'minutes': 1037,\n",
       " 'receives': 1334,\n",
       " 'stars': 1565,\n",
       " 'appetizers': 53,\n",
       " 'cocktails': 297,\n",
       " 'handmade': 749,\n",
       " 'delicious': 412,\n",
       " 'definitely': 407,\n",
       " 'glad': 687,\n",
       " 'give': 684,\n",
       " 'military': 1032,\n",
       " 'discount': 450,\n",
       " 'always': 27,\n",
       " 'dos': 466,\n",
       " 'gringos': 722,\n",
       " 'update': 1753,\n",
       " 'went': 1828,\n",
       " 'second': 1446,\n",
       " 'got': 703,\n",
       " 'apparently': 49,\n",
       " 'never': 1087,\n",
       " 'heard': 765,\n",
       " 'salt': 1414,\n",
       " 'batter': 116,\n",
       " 'fish': 616,\n",
       " 'chewy': 270,\n",
       " 'way': 1816,\n",
       " 'finish': 612,\n",
       " 'included': 837,\n",
       " 'tastings': 1646,\n",
       " 'drinks': 486,\n",
       " 'jeff': 866,\n",
       " 'beyond': 139,\n",
       " 'expected': 559,\n",
       " 'meh': 1014,\n",
       " 'min': 1035,\n",
       " 'milkshake': 1034,\n",
       " 'nothing': 1103,\n",
       " 'chocolate': 278,\n",
       " 'milk': 1033,\n",
       " 'guess': 732,\n",
       " 'known': 891,\n",
       " 'suck': 1607,\n",
       " 'excalibur': 551,\n",
       " 'use': 1757,\n",
       " 'common': 311,\n",
       " 'sense': 1456,\n",
       " 'dish': 456,\n",
       " 'quite': 1306,\n",
       " 'appalling': 48,\n",
       " 'value': 1763,\n",
       " 'well': 1827,\n",
       " 'times': 1684,\n",
       " 'customer': 381,\n",
       " 'sweet': 1628,\n",
       " 'potato': 1256,\n",
       " 'seasoned': 1441,\n",
       " 'today': 1690,\n",
       " 'lunch': 970,\n",
       " 'buffet': 201,\n",
       " 'cheated': 261,\n",
       " 'wasting': 1810,\n",
       " 'eating': 502,\n",
       " 'opportunity': 1130,\n",
       " 'going': 695,\n",
       " 'rice': 1380,\n",
       " 'company': 313,\n",
       " 'coming': 310,\n",
       " 'experiencing': 563,\n",
       " 'underwhelming': 1740,\n",
       " 'relationship': 1353,\n",
       " 'parties': 1175,\n",
       " 'cannot': 232,\n",
       " 'wait': 1792,\n",
       " 'person': 1204,\n",
       " 'ask': 65,\n",
       " 'break': 186,\n",
       " 'walked': 1798,\n",
       " 'smelled': 1514,\n",
       " 'old': 1119,\n",
       " 'grease': 711,\n",
       " 'trap': 1714,\n",
       " 'others': 1138,\n",
       " 'turkey': 1730,\n",
       " 'roast': 1388,\n",
       " 'bland': 157,\n",
       " 'pan': 1164,\n",
       " 'cakes': 224,\n",
       " 'everyone': 547,\n",
       " 'raving': 1320,\n",
       " 'sugary': 1613,\n",
       " 'disaster': 448,\n",
       " 'tailored': 1634,\n",
       " 'palate': 1161,\n",
       " 'six': 1504,\n",
       " 'year': 1872,\n",
       " 'love': 957,\n",
       " 'spring': 1559,\n",
       " 'rolls': 1393,\n",
       " 'oh': 1115,\n",
       " 'yummy': 1881,\n",
       " 'try': 1725,\n",
       " 'meat': 1006,\n",
       " 'ratio': 1318,\n",
       " 'tenders': 1656,\n",
       " 'unsatisfying': 1749,\n",
       " 'omelets': 1122,\n",
       " 'die': 431,\n",
       " 'everything': 548,\n",
       " 'summary': 1617,\n",
       " 'largely': 898,\n",
       " 'disappointing': 445,\n",
       " 'dining': 436,\n",
       " 'experience': 561,\n",
       " 'really': 1327,\n",
       " 'sexy': 1473,\n",
       " 'party': 1176,\n",
       " 'mouth': 1056,\n",
       " 'outrageously': 1142,\n",
       " 'flirting': 626,\n",
       " 'hottest': 807,\n",
       " 'rock': 1390,\n",
       " 'casino': 247,\n",
       " 'step': 1576,\n",
       " 'forward': 642,\n",
       " 'best': 137,\n",
       " 'breakfast': 187,\n",
       " 'bye': 218,\n",
       " 'tip': 1686,\n",
       " 'lady': 896,\n",
       " 'arrived': 61,\n",
       " 'quickly': 1304,\n",
       " 'cafe': 222,\n",
       " 'serves': 1464,\n",
       " 'fantastic': 585,\n",
       " 'wife': 1837,\n",
       " 'loves': 962,\n",
       " 'roasted': 1389,\n",
       " 'garlic': 671,\n",
       " 'bone': 171,\n",
       " 'marrow': 995,\n",
       " 'added': 12,\n",
       " 'extra': 567,\n",
       " 'meal': 1002,\n",
       " 'another': 36,\n",
       " 'helpful': 776,\n",
       " 'bloddy': 161,\n",
       " 'mary': 997,\n",
       " 'town': 1709,\n",
       " 'price': 1267,\n",
       " 'beat': 121,\n",
       " 'mussels': 1069,\n",
       " 'wine': 1839,\n",
       " 'reduction': 1343,\n",
       " 'dishes': 457,\n",
       " 'better': 138,\n",
       " 'buffets': 202,\n",
       " 'tigerlilly': 1682,\n",
       " 'afternoon': 14,\n",
       " 'bartender': 108,\n",
       " 'personable': 1205,\n",
       " 'ambience': 30,\n",
       " 'music': 1068,\n",
       " 'playing': 1235,\n",
       " 'next': 1089,\n",
       " 'trip': 1720,\n",
       " 'sooooo': 1532,\n",
       " 'real': 1325,\n",
       " 'sushi': 1627,\n",
       " 'lovers': 961,\n",
       " 'honest': 794,\n",
       " 'yama': 1869,\n",
       " 'passed': 1177,\n",
       " 'ordering': 1135,\n",
       " 'arriving': 63,\n",
       " 'busy': 215,\n",
       " 'thai': 1661,\n",
       " 'spicy': 1553,\n",
       " 'check': 262,\n",
       " 'gross': 725,\n",
       " 'atmosphere': 70,\n",
       " 'kind': 888,\n",
       " 'mess': 1024,\n",
       " 'steak': 1572,\n",
       " 'although': 26,\n",
       " 'liked': 930,\n",
       " 'sound': 1537,\n",
       " 'actual': 10,\n",
       " 'bit': 149,\n",
       " 'know': 890,\n",
       " 'managed': 986,\n",
       " 'served': 1461,\n",
       " 'blandest': 158,\n",
       " 'eaten': 501,\n",
       " 'preparing': 1264,\n",
       " 'indian': 842,\n",
       " 'cuisine': 379,\n",
       " 'boot': 173,\n",
       " 'worries': 1857,\n",
       " 'fine': 610,\n",
       " 'guys': 736,\n",
       " 'steaks': 1574,\n",
       " 'loving': 963,\n",
       " 'son': 1528,\n",
       " 'places': 1227,\n",
       " 'said': 1408,\n",
       " 'thought': 1675,\n",
       " 'venture': 1774,\n",
       " 'away': 83,\n",
       " 'hit': 787,\n",
       " 'spot': 1556,\n",
       " 'night': 1092,\n",
       " 'host': 804,\n",
       " 'lack': 892,\n",
       " 'word': 1849,\n",
       " 'bitches': 150,\n",
       " 'liking': 932,\n",
       " 'number': 1105,\n",
       " 'reasons': 1331,\n",
       " 'waste': 1808,\n",
       " 'reviewing': 1373,\n",
       " 'leave': 911,\n",
       " 'phenomenal': 1209,\n",
       " 'ambiance': 29,\n",
       " 'return': 1368,\n",
       " 'venturing': 1775,\n",
       " 'strip': 1595,\n",
       " 'pork': 1250,\n",
       " 'belly': 135,\n",
       " 'mediocre': 1010,\n",
       " 'penne': 1195,\n",
       " 'vodka': 1786,\n",
       " 'excellent': 553,\n",
       " 'including': 838,\n",
       " 'massive': 998,\n",
       " 'meatloaf': 1008,\n",
       " 'crispy': 370,\n",
       " 'wrap': 1864,\n",
       " 'delish': 417,\n",
       " 'tuna': 1729,\n",
       " 'melt': 1017,\n",
       " 'burgers': 208,\n",
       " 'management': 987,\n",
       " 'rude': 1399,\n",
       " 'nyc': 1108,\n",
       " 'bagels': 96,\n",
       " 'selections': 1453,\n",
       " 'cream': 365,\n",
       " 'cheese': 265,\n",
       " 'lox': 965,\n",
       " 'capers': 234,\n",
       " 'even': 541,\n",
       " 'subway': 1605,\n",
       " 'fact': 573,\n",
       " 'come': 308,\n",
       " 'meet': 1013,\n",
       " 'expectations': 558,\n",
       " 'seriously': 1458,\n",
       " 'solid': 1521,\n",
       " 'bars': 107,\n",
       " 'extremely': 569,\n",
       " 'many': 991,\n",
       " 'restaurants': 1367,\n",
       " 'dine': 435,\n",
       " 'weekend': 1823,\n",
       " 'drink': 484,\n",
       " 'empty': 523,\n",
       " 'suggestions': 1615,\n",
       " 'rarely': 1312,\n",
       " 'checked': 263,\n",
       " 'ate': 69,\n",
       " 'disappointed': 444,\n",
       " 'curry': 380,\n",
       " 'bamboo': 100,\n",
       " 'shoots': 1480,\n",
       " 'blanket': 159,\n",
       " 'moz': 1060,\n",
       " 'top': 1698,\n",
       " 'done': 463,\n",
       " 'cover': 353,\n",
       " 'subpar': 1604,\n",
       " 'bathrooms': 115,\n",
       " 'clean': 290,\n",
       " 'decorated': 401,\n",
       " 'changing': 254,\n",
       " 'considering': 327,\n",
       " 'pace': 1157,\n",
       " 'thumbs': 1680,\n",
       " 'watched': 1812,\n",
       " 'pay': 1186,\n",
       " 'attention': 74,\n",
       " 'ignore': 826,\n",
       " 'fianc': 601,\n",
       " 'middle': 1029,\n",
       " 'day': 392,\n",
       " 'greeted': 719,\n",
       " 'seated': 1444,\n",
       " 'mandalay': 989,\n",
       " 'bay': 117,\n",
       " 'waited': 1793,\n",
       " 'forty': 641,\n",
       " 'five': 617,\n",
       " 'vain': 1761,\n",
       " 'crostini': 371,\n",
       " 'stale': 1562,\n",
       " 'highlights': 782,\n",
       " 'nigiri': 1093,\n",
       " 'joint': 873,\n",
       " 'different': 433,\n",
       " 'cut': 384,\n",
       " 'piece': 1216,\n",
       " 'flavored': 621,\n",
       " 'voodoo': 1788,\n",
       " 'since': 1500,\n",
       " 'gluten': 691,\n",
       " 'free': 647,\n",
       " 'several': 1471,\n",
       " 'years': 1873,\n",
       " 'ago': 15,\n",
       " 'unfortunately': 1742,\n",
       " 'must': 1070,\n",
       " 'bakery': 97,\n",
       " 'leftover': 914,\n",
       " 'relocated': 1357,\n",
       " 'impressed': 834,\n",
       " 'immediately': 832,\n",
       " 'diverse': 460,\n",
       " 'reasonably': 1330,\n",
       " 'priced': 1268,\n",
       " 'avoid': 81,\n",
       " 'cost': 342,\n",
       " 'full': 664,\n",
       " 'hands': 750,\n",
       " 'phoenix': 1212,\n",
       " 'metro': 1025,\n",
       " 'area': 56,\n",
       " 'looking': 950,\n",
       " 'treated': 1716,\n",
       " 'bacon': 94,\n",
       " 'hella': 772,\n",
       " 'salty': 1415,\n",
       " 'spinach': 1554,\n",
       " 'avocado': 80,\n",
       " 'ingredients': 849,\n",
       " 'sad': 1404,\n",
       " 'literally': 938,\n",
       " 'zero': 1882,\n",
       " 'used': 1758,\n",
       " 'menus': 1022,\n",
       " 'handed': 746,\n",
       " 'ladies': 895,\n",
       " 'listed': 937,\n",
       " 'waitresses': 1797,\n",
       " 'lordy': 952,\n",
       " 'khao': 883,\n",
       " 'soi': 1520,\n",
       " 'missed': 1040,\n",
       " 'terrific': 1659,\n",
       " 'thrilled': 1677,\n",
       " 'accommodations': 4,\n",
       " 'vegetarian': 1769,\n",
       " 'daughter': 391,\n",
       " 'perhaps': 1202,\n",
       " 'caught': 249,\n",
       " 'judging': 877,\n",
       " 'reviews': 1374,\n",
       " 'inspired': 852,\n",
       " 'leaves': 912,\n",
       " 'desired': 424,\n",
       " 'modern': 1045,\n",
       " 'hip': 785,\n",
       " 'maintaining': 981,\n",
       " 'coziness': 357,\n",
       " 'weekly': 1824,\n",
       " 'haunt': 760,\n",
       " 'sat': 1422,\n",
       " 'asking': 67,\n",
       " 'take': 1635,\n",
       " 'order': 1133,\n",
       " 'flavor': 620,\n",
       " 'overcooked': 1149,\n",
       " 'charcoal': 256,\n",
       " 'decided': 398,\n",
       " 'send': 1455,\n",
       " 'looked': 949,\n",
       " 'verge': 1777,\n",
       " 'dressed': 480,\n",
       " 'rudely': 1400,\n",
       " 'probably': 1274,\n",
       " 'dirt': 440,\n",
       " 'hits': 788,\n",
       " 'something': 1526,\n",
       " 'healthy': 764,\n",
       " 'lacking': 894,\n",
       " 'quantity': 1302,\n",
       " 'lemon': 917,\n",
       " 'raspberry': 1313,\n",
       " 'ice': 823,\n",
       " 'cocktail': 296,\n",
       " 'incredible': 840,\n",
       " 'sucked': 1608,\n",
       " 'imagined': 831,\n",
       " 'interesting': 857,\n",
       " 'decor': 400,\n",
       " 'crepe': 368,\n",
       " 'station': 1568,\n",
       " 'hot': 806,\n",
       " 'bread': 185,\n",
       " 'butter': 216,\n",
       " 'home': 791,\n",
       " 'chips': 277,\n",
       " 'bits': 153,\n",
       " 'original': 1137,\n",
       " 'watch': 1811,\n",
       " 'egg': 512,\n",
       " 'gyros': 738,\n",
       " 'missing': 1041,\n",
       " 'wings': 1841,\n",
       " 'feeling': 595,\n",
       " 'satisfied': 1424,\n",
       " 'joey': 871,\n",
       " 'voted': 1789,\n",
       " 'dog': 461,\n",
       " 'valley': 1762,\n",
       " 'readers': 1323,\n",
       " 'magazine': 976,\n",
       " 'bowl': 179,\n",
       " 'live': 940,\n",
       " 'fridays': 651,\n",
       " 'blows': 166,\n",
       " 'insulted': 855,\n",
       " 'felt': 600,\n",
       " 'disrespected': 459,\n",
       " 'drive': 488,\n",
       " 'things': 1667,\n",
       " 'exceeding': 552,\n",
       " 'hope': 798,\n",
       " 'dreamed': 478,\n",
       " 'serivce': 1459,\n",
       " 'help': 774,\n",
       " 'brunch': 197,\n",
       " 'inviting': 859,\n",
       " 'lived': 941,\n",
       " 'last': 901,\n",
       " 'stepped': 1577,\n",
       " 'foot': 637,\n",
       " 'mixed': 1043,\n",
       " 'mushrooms': 1067,\n",
       " 'yukon': 1879,\n",
       " 'gold': 696,\n",
       " 'puree': 1296,\n",
       " 'white': 1833,\n",
       " 'corn': 339,\n",
       " 'beateous': 122,\n",
       " 'bug': 203,\n",
       " 'showed': 1487,\n",
       " 'given': 685,\n",
       " 'climbing': 291,\n",
       " 'kitchen': 889,\n",
       " 'waiting': 1795,\n",
       " 'soon': 1530,\n",
       " 'friend': 653,\n",
       " 'tartar': 1641,\n",
       " 'though': 1674,\n",
       " 'soggy': 1519,\n",
       " 'jamaican': 864,\n",
       " 'mojitos': 1047,\n",
       " 'small': 1510,\n",
       " 'shower': 1488,\n",
       " 'rinse': 1385,\n",
       " 'unless': 1746,\n",
       " 'mind': 1036,\n",
       " 'nude': 1104,\n",
       " 'see': 1448,\n",
       " 'lobster': 943,\n",
       " 'bisque': 148,\n",
       " 'bussell': 214,\n",
       " 'sprouts': 1560,\n",
       " 'risotto': 1387,\n",
       " 'filet': 603,\n",
       " 'needed': 1081,\n",
       " 'pepper': 1197,\n",
       " 'course': 350,\n",
       " 'none': 1098,\n",
       " 'hopefully': 799,\n",
       " 'bodes': 169,\n",
       " 'business': 212,\n",
       " 'someone': 1524,\n",
       " 'cook': 335,\n",
       " 'either': 515,\n",
       " 'cold': 301,\n",
       " 'wrapped': 1865,\n",
       " 'dates': 390,\n",
       " 'unbelievable': 1736,\n",
       " 'bargain': 106,\n",
       " 'folks': 633,\n",
       " 'otto': 1140,\n",
       " 'make': 982,\n",
       " 'welcome': 1826,\n",
       " 'special': 1545,\n",
       " 'mains': 980,\n",
       " 'uninspired': 1744,\n",
       " 'stop': 1585,\n",
       " 'whenever': 1831,\n",
       " 'dealing': 395,\n",
       " 'world': 1856,\n",
       " 'annoying': 35,\n",
       " 'drunk': 491,\n",
       " 'fun': 665,\n",
       " 'chef': 268,\n",
       " 'double': 467,\n",
       " 'cheeseburger': 266,\n",
       " 'single': 1501,\n",
       " 'patty': 1185,\n",
       " 'falling': 579,\n",
       " 'apart': 44,\n",
       " 'picture': 1214,\n",
       " 'uploaded': 1755,\n",
       " 'yeah': 1871,\n",
       " 'couple': 347,\n",
       " 'sporting': 1555,\n",
       " 'events': 544,\n",
       " 'walls': 1800,\n",
       " 'covered': 354,\n",
       " 'tv': 1732,\n",
       " 'possible': 1254,\n",
       " 'descriptions': 422,\n",
       " 'yum': 1880,\n",
       " 'eel': 508,\n",
       " 'yet': 1877,\n",
       " 'mayo': 1001,\n",
       " 'sauces': 1427,\n",
       " 'hardest': 756,\n",
       " 'decision': 399,\n",
       " 'honestly': 795,\n",
       " 'supposed': 1623,\n",
       " 'rolled': 1392,\n",
       " 'eyes': 571,\n",
       " 'stayed': 1570,\n",
       " 'providing': 1288,\n",
       " 'money': 1049,\n",
       " 'flavourful': 625,\n",
       " 'almost': 23,\n",
       " 'building': 204,\n",
       " 'freezing': 648,\n",
       " 'reviewer': 1372,\n",
       " 'close': 292,\n",
       " 'point': 1243,\n",
       " 'flavorful': 622,\n",
       " 'delights': 416,\n",
       " 'ayce': 88,\n",
       " 'lighting': 927,\n",
       " 'dark': 388,\n",
       " 'set': 1468,\n",
       " 'mood': 1052,\n",
       " 'based': 111,\n",
       " 'sub': 1603,\n",
       " 'par': 1170,\n",
       " 'received': 1333,\n",
       " 'effort': 511,\n",
       " 'show': 1486,\n",
       " 'gratitude': 709,\n",
       " 'owner': 1154,\n",
       " 'privileged': 1273,\n",
       " 'working': 1854,\n",
       " 'creamy': 366,\n",
       " 'parents': 1172,\n",
       " 'similar': 1496,\n",
       " 'complaints': 315,\n",
       " 'silently': 1495,\n",
       " 'pizza': 1223,\n",
       " 'peanut': 1190,\n",
       " 'fast': 588,\n",
       " 'godfathers': 694,\n",
       " 'tough': 1707,\n",
       " 'short': 1484,\n",
       " 'sticks': 1579,\n",
       " 'recall': 1332,\n",
       " 'charged': 258,\n",
       " 'tap': 1639,\n",
       " 'exquisite': 565,\n",
       " 'generous': 677,\n",
       " 'plus': 1241,\n",
       " 'bucks': 200,\n",
       " 'thus': 1681,\n",
       " 'far': 586,\n",
       " 'visited': 1785,\n",
       " 'twice': 1733,\n",
       " 'self': 1454,\n",
       " 'proclaimed': 1276,\n",
       " 'coffee': 300,\n",
       " 'wildly': 1838,\n",
       " 'veggitarian': 1771,\n",
       " 'platter': 1233,\n",
       " 'wrong': 1867,\n",
       " 'madison': 975,\n",
       " 'ironman': 860,\n",
       " 'chefs': 269,\n",
       " 'job': 870,\n",
       " 'dedicated': 402,\n",
       " 'boba': 168,\n",
       " 'tea': 1649,\n",
       " 'spots': 1557,\n",
       " 'jenni': 867,\n",
       " 'patio': 1182,\n",
       " 'outstanding': 1145,\n",
       " 'goat': 693,\n",
       " 'taco': 1632,\n",
       " 'skimp': 1505,\n",
       " 'mac': 971,\n",
       " 'bachi': 92,\n",
       " 'stinks': 1581,\n",
       " 'recommend': 1337,\n",
       " 'salads': 1410,\n",
       " 'burned': 209,\n",
       " 'saganaki': 1407,\n",
       " 'hate': 758,\n",
       " 'disagree': 442,\n",
       " 'fellow': 599,\n",
       " 'yelpers': 1876,\n",
       " 'hours': 809,\n",
       " 'pizzas': 1224,\n",
       " 'later': 904,\n",
       " 'neighborhood': 1085,\n",
       " 'convenient': 334,\n",
       " 'location': 945,\n",
       " 'pulled': 1293,\n",
       " 'soooo': 1531,\n",
       " 'incredibly': 841,\n",
       " 'prepared': 1263,\n",
       " 'gave': 673,\n",
       " 'star': 1564,\n",
       " 'rating': 1317,\n",
       " 'please': 1237,\n",
       " 'third': 1671,\n",
       " 'writing': 1866,\n",
       " 'review': 1371,\n",
       " 'stay': 1569,\n",
       " 'stir': 1582,\n",
       " 'fried': 652,\n",
       " 'noodles': 1099,\n",
       " 'chip': 274,\n",
       " 'count': 346,\n",
       " 'box': 180,\n",
       " 'boring': 174,\n",
       " 'greedy': 715,\n",
       " 'corporation': 340,\n",
       " 'dime': 434,\n",
       " 'atrocious': 71,\n",
       " 'summer': 1618,\n",
       " 'charming': 259,\n",
       " 'outdoor': 1141,\n",
       " 'delightful': 415,\n",
       " 'expect': 557,\n",
       " 'toasted': 1689,\n",
       " 'english': 526,\n",
       " 'muffin': 1063,\n",
       " 'untoasted': 1750,\n",
       " 'high': 779,\n",
       " 'house': 810,\n",
       " 'bus': 211,\n",
       " 'boy': 182,\n",
       " 'hand': 745,\n",
       " 'friends': 655,\n",
       " 'basically': 112,\n",
       " 'figured': 602,\n",
       " 'joke': 874,\n",
       " 'making': 983,\n",
       " 'publicly': 1291,\n",
       " 'loudly': 956,\n",
       " 'bbq': 118,\n",
       " 'lighter': 926,\n",
       " 'fare': 587,\n",
       " 'reasonable': 1329,\n",
       " 'pricing': 1271,\n",
       " 'public': 1290,\n",
       " 'ways': 1817,\n",
       " 'two': 1734,\n",
       " 'happy': 754,\n",
       " 'downside': 473,\n",
       " 'without': 1845,\n",
       " 'doubt': 468,\n",
       " 'exceptional': 554,\n",
       " 'months': 1051,\n",
       " 'returned': 1369,\n",
       " 'favorite': 592,\n",
       " 'shawarrrrrrma': 1476,\n",
       " 'black': 154,\n",
       " 'eyed': 570,\n",
       " 'peas': 1193,\n",
       " 'unreal': 1748,\n",
       " 'serve': 1460,\n",
       " 'vinaigrette': 1781,\n",
       " 'seen': 1451,\n",
       " 'especially': 536,\n",
       " 'mom': 1048,\n",
       " 'bites': 152,\n",
       " 'pleasant': 1236,\n",
       " 'honor': 796,\n",
       " 'hut': 821,\n",
       " 'coupons': 349,\n",
       " 'truly': 1724,\n",
       " 'unbelievably': 1737,\n",
       " 'pleased': 1238,\n",
       " 'dirty': 441,\n",
       " 'seat': 1443,\n",
       " 'covers': 355,\n",
       " 'replenished': 1361,\n",
       " 'plain': 1228,\n",
       " 'yucky': 1878,\n",
       " 'standard': 1563,\n",
       " 'omg': 1123,\n",
       " 'delicioso': 411,\n",
       " 'authentic': 78,\n",
       " 'spaghetti': 1544,\n",
       " 'whatsoever': 1829,\n",
       " 'vegetables': 1768,\n",
       " 'feels': 596,\n",
       " 'driving': 489,\n",
       " 'tucson': 1727,\n",
       " 'chipotle': 276,\n",
       " 'classy': 289,\n",
       " 'succulent': 1606,\n",
       " 'baseball': 110,\n",
       " 'brick': 190,\n",
       " 'oven': 1147,\n",
       " 'app': 47,\n",
       " 'multiple': 1065,\n",
       " 'ten': 1654,\n",
       " 'finally': 608,\n",
       " 'terrible': 1658,\n",
       " 'equally': 535,\n",
       " 'pancakes': 1166,\n",
       " 'eggs': 514,\n",
       " 'genuinely': 678,\n",
       " 'enthusiastic': 532,\n",
       " 'treat': 1715,\n",
       " 'sadly': 1405,\n",
       " 'gordon': 702,\n",
       " 'ramsey': 1307,\n",
       " 'shall': 1474,\n",
       " 'sharply': 1475,\n",
       " 'evening': 542,\n",
       " 'life': 924,\n",
       " ...}"
      ]
     },
     "execution_count": 12,
     "metadata": {},
     "output_type": "execute_result"
    }
   ],
   "source": [
    "vectorizer.vocabulary_"
   ]
  },
  {
   "cell_type": "code",
   "execution_count": 13,
   "id": "3936d9fd-788b-414f-b1fa-2902a0754d7f",
   "metadata": {},
   "outputs": [
    {
     "data": {
      "text/plain": [
       "array([[0., 0., 0., ..., 0., 0., 0.],\n",
       "       [0., 0., 0., ..., 0., 0., 0.],\n",
       "       [0., 0., 0., ..., 0., 0., 0.],\n",
       "       ...,\n",
       "       [0., 0., 0., ..., 0., 0., 0.],\n",
       "       [0., 0., 0., ..., 0., 0., 0.],\n",
       "       [0., 0., 0., ..., 0., 0., 0.]])"
      ]
     },
     "execution_count": 13,
     "metadata": {},
     "output_type": "execute_result"
    }
   ],
   "source": [
    "vectorized_data"
   ]
  },
  {
   "cell_type": "markdown",
   "id": "bfcdbaa7-cdfa-46d8-adaa-eef5462cea4a",
   "metadata": {},
   "source": [
    "## Model Creation and Evaluation"
   ]
  },
  {
   "cell_type": "code",
   "execution_count": 14,
   "id": "6c07ca02-2d6d-4e03-97e2-2ee4fd97591b",
   "metadata": {},
   "outputs": [],
   "source": [
    "from sklearn.model_selection import train_test_split\n",
    "\n",
    "X_train, X_test, y_train, y_test = train_test_split(vectorized_data, cleaned_data['Liked'], test_size=0.2, random_state=42)"
   ]
  },
  {
   "cell_type": "code",
   "execution_count": 15,
   "id": "49645177-d35d-4561-9eab-550c63de1cb8",
   "metadata": {},
   "outputs": [
    {
     "data": {
      "text/plain": [
       "array([[0., 0., 0., ..., 0., 0., 0.],\n",
       "       [0., 0., 0., ..., 0., 0., 0.],\n",
       "       [0., 0., 0., ..., 0., 0., 0.],\n",
       "       ...,\n",
       "       [0., 0., 0., ..., 0., 0., 0.],\n",
       "       [0., 0., 0., ..., 0., 0., 0.],\n",
       "       [0., 0., 0., ..., 0., 0., 0.]])"
      ]
     },
     "execution_count": 15,
     "metadata": {},
     "output_type": "execute_result"
    }
   ],
   "source": [
    "X_train"
   ]
  },
  {
   "cell_type": "markdown",
   "id": "9561e211-4c40-46eb-8833-89cc67f6687c",
   "metadata": {},
   "source": [
    "It can be seen that the input features are sparse matrices so let's convert them as such to save space."
   ]
  },
  {
   "cell_type": "code",
   "execution_count": 16,
   "id": "2603be07-e59b-4b20-802a-2103818a580f",
   "metadata": {},
   "outputs": [
    {
     "data": {
      "text/plain": [
       "12051328"
      ]
     },
     "execution_count": 16,
     "metadata": {},
     "output_type": "execute_result"
    }
   ],
   "source": [
    "import sys\n",
    "from scipy.sparse import csr_matrix\n",
    "\n",
    "sys.getsizeof(X_train)"
   ]
  },
  {
   "cell_type": "code",
   "execution_count": 17,
   "id": "436a4902-1d25-4e3a-a4f5-b0de007045bd",
   "metadata": {},
   "outputs": [
    {
     "data": {
      "text/plain": [
       "48"
      ]
     },
     "execution_count": 17,
     "metadata": {},
     "output_type": "execute_result"
    }
   ],
   "source": [
    "sys.getsizeof(csr_matrix(X_train))"
   ]
  },
  {
   "cell_type": "code",
   "execution_count": 18,
   "id": "e3e64d70-9372-47d8-a7ea-21d5dc64f8e7",
   "metadata": {},
   "outputs": [],
   "source": [
    "X_train = csr_matrix(X_train)\n",
    "X_test = csr_matrix(X_test)"
   ]
  },
  {
   "cell_type": "code",
   "execution_count": 19,
   "id": "810bd73f-a298-4cc5-be60-4d26125a49b5",
   "metadata": {},
   "outputs": [],
   "source": [
    "from sklearn.svm import SVC\n",
    "from sklearn.metrics import precision_score, recall_score\n",
    "\n",
    "svc = SVC()\n",
    "\n",
    "svc.fit(X_train, y_train)\n",
    "\n",
    "predictions = svc.predict(X_test)\n"
   ]
  },
  {
   "cell_type": "code",
   "execution_count": 20,
   "id": "d6821786-851d-476b-ac73-87dfcfad3c75",
   "metadata": {},
   "outputs": [
    {
     "data": {
      "text/plain": [
       "0.867"
      ]
     },
     "execution_count": 20,
     "metadata": {},
     "output_type": "execute_result"
    }
   ],
   "source": [
    "precision_score(y_true=y_test,\n",
    "                y_pred=predictions).round(3)"
   ]
  },
  {
   "cell_type": "code",
   "execution_count": 21,
   "id": "a2f6d389-c0f2-4dab-93e8-7607c3c466ef",
   "metadata": {},
   "outputs": [
    {
     "data": {
      "text/plain": [
       "0.75"
      ]
     },
     "execution_count": 21,
     "metadata": {},
     "output_type": "execute_result"
    }
   ],
   "source": [
    "recall_score(y_true=y_test,\n",
    "             y_pred=predictions).round(3)"
   ]
  },
  {
   "cell_type": "markdown",
   "id": "f1834f83-530a-40db-9e6d-f2a22157b002",
   "metadata": {},
   "source": [
    "Adjusting the threshold of the classifier will give you more control over the precision and recall values of the classifier."
   ]
  },
  {
   "cell_type": "markdown",
   "id": "c0433157-d8ca-4a94-acbe-ebb30a12d7f0",
   "metadata": {},
   "source": [
    "### Visualizing the Threshold"
   ]
  },
  {
   "cell_type": "code",
   "execution_count": 22,
   "id": "c286a1f2-5b65-4412-86e3-02e004e29408",
   "metadata": {},
   "outputs": [],
   "source": [
    "from sklearn.metrics import precision_recall_curve\n",
    "from sklearn.model_selection import cross_val_predict\n",
    "\n",
    "decisions = cross_val_predict(estimator=svc,\n",
    "                                X=X_train,\n",
    "                                y=y_train,\n",
    "                                cv=3,\n",
    "                                method='decision_function')"
   ]
  },
  {
   "cell_type": "code",
   "execution_count": 23,
   "id": "81e6b2a6-7f15-4428-9316-69b3d5dec45e",
   "metadata": {},
   "outputs": [
    {
     "data": {
      "image/png": "[encoded data removed]",
      "text/plain": [
       "<Figure size 800x400 with 1 Axes>"
      ]
     },
     "metadata": {},
     "output_type": "display_data"
    }
   ],
   "source": [
    "precisions, recalls, thresholds = precision_recall_curve(y_train, decisions)\n",
    "\n",
    "threshold_index = (precisions >= recalls).argmax()\n",
    "threshold = thresholds[threshold_index]\n",
    "\n",
    "def plot_pr_comparison_curve(thresholds, precisions, recalls, threshold_value=0):\n",
    "    \n",
    "    plt.figure(figsize=(8, 4)) \n",
    "    plt.grid()\n",
    "    plt.plot(thresholds, precisions[:-1], \"b--\", label=\"Precision\", linewidth=2)\n",
    "    plt.plot(thresholds, recalls[:-1], \"g-\", label=\"Recall\", linewidth=2)\n",
    "    plt.vlines(threshold_value, 0, 1.0, \"k\", \"dotted\", label=\"threshold\")\n",
    "    plt.xlabel(\"Threshold\")\n",
    "    plt.legend(loc=\"center right\")\n",
    "    \n",
    "    plt.show()\n",
    "\n",
    "plot_pr_comparison_curve(thresholds=thresholds,\n",
    "              precisions=precisions,\n",
    "              recalls=recalls,\n",
    "              threshold_value = threshold)\n",
    "              "
   ]
  },
  {
   "cell_type": "markdown",
   "id": "3abefc16-d77e-4a80-ada0-a52ba6f38d23",
   "metadata": {},
   "source": [
    "Let's adjust the threshold to achieve a recall of about 90%."
   ]
  },
  {
   "cell_type": "code",
   "execution_count": 24,
   "id": "2b452e1b-3f9c-47d1-b8d9-a0af9eef30cd",
   "metadata": {},
   "outputs": [],
   "source": [
    "recall_at_90_index = (recalls <= 0.9).argmax() # <= is used instead of >= since the recall values are in descending order.\n",
    "\n",
    "recall_90_threshold = thresholds[recall_at_90_index]"
   ]
  },
  {
   "cell_type": "markdown",
   "id": "0b43f25e-ba24-4c60-b5e1-cade5f681b82",
   "metadata": {},
   "source": []
  },
  {
   "cell_type": "code",
   "execution_count": 25,
   "id": "68fd8a07-3b3f-4faa-82f1-d9e18ed79d68",
   "metadata": {},
   "outputs": [
    {
     "data": {
      "text/plain": [
       "0.9"
      ]
     },
     "execution_count": 25,
     "metadata": {},
     "output_type": "execute_result"
    }
   ],
   "source": [
    "decisions_at_90_recall = (decisions >= recall_90_threshold).astype(int)\n",
    "\n",
    "\n",
    "recall_score(y_true=y_train,\n",
    "             y_pred=decisions_at_90_recall).round(2)"
   ]
  },
  {
   "cell_type": "code",
   "execution_count": 26,
   "id": "dc32832b-aba7-40f3-b06a-be7729594e49",
   "metadata": {},
   "outputs": [
    {
     "data": {
      "text/plain": [
       "0.73"
      ]
     },
     "execution_count": 26,
     "metadata": {},
     "output_type": "execute_result"
    }
   ],
   "source": [
    "precision_score(y_true=y_train,\n",
    "                y_pred=decisions_at_90_recall).round(2)"
   ]
  },
  {
   "cell_type": "markdown",
   "id": "a008d824-6734-42d8-9b53-f09a5cf9a0a3",
   "metadata": {},
   "source": [
    "We have succesfully adjusted our threshold to give us about 90% recall but at the cost of a reduced precision since there's a tradeoff between precision and recall, as can be noted from the plot above. But having a recall of about 90% and precision at about 70% is still quite good depending on the learning task."
   ]
  },
  {
   "cell_type": "markdown",
   "id": "59332315-b7d8-4d4c-975a-ab2007e2d08f",
   "metadata": {},
   "source": [
    "We can also do the same for precision. Let's adjust the threshold to a precision of about 95%."
   ]
  },
  {
   "cell_type": "code",
   "execution_count": 27,
   "id": "578516be-b067-4dad-8de6-0a4a6ca4afd9",
   "metadata": {},
   "outputs": [],
   "source": [
    "precision_at_95_index = (precisions >= 0.95).argmax()\n",
    "precision_95_threshold = thresholds[precision_at_95_index]"
   ]
  },
  {
   "cell_type": "code",
   "execution_count": 28,
   "id": "0cb981f3-2692-48d3-8205-5e1ca1c74668",
   "metadata": {},
   "outputs": [
    {
     "data": {
      "text/plain": [
       "0.952"
      ]
     },
     "execution_count": 28,
     "metadata": {},
     "output_type": "execute_result"
    }
   ],
   "source": [
    "decisions_at_95_precision = (decisions >= precision_95_threshold).astype(int)\n",
    "\n",
    "precision_score(y_true=y_train,\n",
    "                y_pred=decisions_at_95_precision).round(3)"
   ]
  },
  {
   "cell_type": "code",
   "execution_count": 29,
   "id": "c20b342c-8cc3-4555-9433-5e1ef6e13b58",
   "metadata": {},
   "outputs": [
    {
     "data": {
      "text/plain": [
       "0.596"
      ]
     },
     "execution_count": 29,
     "metadata": {},
     "output_type": "execute_result"
    }
   ],
   "source": [
    "recall_score(y_true=y_train,\n",
    "                y_pred=decisions_at_95_precision).round(3)"
   ]
  },
  {
   "cell_type": "markdown",
   "id": "a29683a8-155f-4f16-afd0-c06bf5db7d5a",
   "metadata": {},
   "source": [
    "Let's visualize this"
   ]
  },
  {
   "cell_type": "code",
   "execution_count": 30,
   "id": "f242c3b1-4cad-401a-abea-50033d03a6dd",
   "metadata": {},
   "outputs": [
    {
     "data": {
      "image/png": "[encoded data removed]",
      "text/plain": [
       "<Figure size 800x400 with 1 Axes>"
      ]
     },
     "metadata": {},
     "output_type": "display_data"
    }
   ],
   "source": [
    "plt.figure(figsize=(8, 4)) \n",
    "plt.grid()\n",
    "plt.plot(thresholds, precisions[:-1], \"b--\", label=\"Precision\", linewidth=2)\n",
    "plt.plot(precision_95_threshold, precisions[precision_at_95_index], \"bo\")\n",
    "plt.plot(thresholds, recalls[:-1], \"g-\", label=\"Recall\", linewidth=2)\n",
    "plt.plot(precision_95_threshold, recalls[precision_at_95_index], \"go\")\n",
    "plt.vlines(precision_95_threshold, 0, 1.0, \"k\", \"dotted\", label=\"threshold\")\n",
    "plt.xlabel(\"Threshold\")\n",
    "plt.legend(loc=\"center right\")\n",
    "\n",
    "plt.show()"
   ]
  },
  {
   "cell_type": "markdown",
   "id": "56407255-edd4-4a98-ae2e-d33cf32e0795",
   "metadata": {},
   "source": [
    "### Evaluation using Precision Recall Curve"
   ]
  },
  {
   "cell_type": "code",
   "execution_count": 31,
   "id": "79bc66bb-1925-46fe-8715-da5c390a2b3c",
   "metadata": {},
   "outputs": [
    {
     "data": {
      "image/png": "[encoded data removed]",
      "text/plain": [
       "<Figure size 600x500 with 1 Axes>"
      ]
     },
     "metadata": {},
     "output_type": "display_data"
    }
   ],
   "source": [
    "def plot_pr_curve(recalls, precisions):\n",
    "    plt.figure(figsize=(6, 5))\n",
    "    plt.plot(recalls, precisions, linewidth=2, label=\"Precision/Recall curve\")\n",
    "    plt.xlabel(\"Recall\")\n",
    "    plt.ylabel(\"Precision\")\n",
    "    plt.grid()\n",
    "    plt.legend(loc=\"lower left\")\n",
    "    plt.show()\n",
    "\n",
    "plot_pr_curve(recalls=recalls,\n",
    "              precisions=precisions)"
   ]
  },
  {
   "cell_type": "markdown",
   "id": "15053a2c-eadc-429c-8d76-0ecbd576a9d9",
   "metadata": {},
   "source": [
    "From the plot above, it can be seen that there's room for improvement as the curve could be closer to the top-right corner."
   ]
  },
  {
   "cell_type": "markdown",
   "id": "7efc86d7-5e78-4d59-a56a-f4b73de28725",
   "metadata": {},
   "source": [
    "### Evaluating Using the ROC Curve"
   ]
  },
  {
   "cell_type": "code",
   "execution_count": 32,
   "id": "21f21114-fa93-4cc7-8828-6486a4074940",
   "metadata": {},
   "outputs": [],
   "source": [
    "from sklearn.metrics import roc_curve\n",
    "\n",
    "false_positive_rate, true_positive_rate, thresholds = roc_curve(y_true=y_train,\n",
    "                                                               y_score=decisions)"
   ]
  },
  {
   "cell_type": "code",
   "execution_count": 33,
   "id": "b2fc52aa-967f-4de5-a491-4ca60f54ffb4",
   "metadata": {},
   "outputs": [
    {
     "data": {
      "image/png": "[encoded data removed]",
      "text/plain": [
       "<Figure size 600x500 with 1 Axes>"
      ]
     },
     "metadata": {},
     "output_type": "display_data"
    }
   ],
   "source": [
    "def plot_roc_curve(false_positive_rate, true_positive_rate):\n",
    "    plt.figure(figsize=(6, 5))\n",
    "    plt.plot(false_positive_rate, true_positive_rate, linewidth=2, label=\"ROC curve\")\n",
    "    plt.plot([0, 1], [0, 1], 'k:', label=\"Random classifier's ROC curve\")\n",
    "    \n",
    "    \n",
    "    \n",
    "    plt.xlabel('False Positive Rate (Fall-Out)')\n",
    "    plt.ylabel('True Positive Rate (Recall)')\n",
    "    plt.grid()\n",
    "    plt.axis([0, 1, 0, 1])\n",
    "    plt.legend(loc=\"lower right\", fontsize=13)\n",
    "    \n",
    "    plt.show()\n",
    "    \n",
    "plot_roc_curve(false_positive_rate=false_positive_rate,\n",
    "               true_positive_rate=true_positive_rate)"
   ]
  },
  {
   "cell_type": "markdown",
   "id": "e2623610-f86b-4dea-920a-208e965931fe",
   "metadata": {},
   "source": [
    "From the PR-curve and the ROC curve above, it can be seen that the classifier has more room for improvement. Let's scale the features to see if there'll be an improvment."
   ]
  },
  {
   "cell_type": "code",
   "execution_count": 34,
   "id": "568d715e-fefd-4687-995b-2f130b5587d3",
   "metadata": {},
   "outputs": [],
   "source": [
    "from sklearn.preprocessing import StandardScaler\n",
    "\n",
    "scaler = StandardScaler(with_mean=False) # since we're dealing with a sparse matrix,\n",
    "#subtracting the mean from the values will invalidate its sparsity.\n",
    "\n",
    "X_train_scaled = scaler.fit_transform(X_train)\n",
    "\n",
    "X_test_scaled = scaler.fit_transform(X_test)\n",
    "svc.fit(X_train_scaled, y_train)\n",
    "\n",
    "predictions_scaled = svc.predict(X_test_scaled)"
   ]
  },
  {
   "cell_type": "code",
   "execution_count": 35,
   "id": "8fd45b08-d37d-40f3-8b9f-27205c26951b",
   "metadata": {},
   "outputs": [
    {
     "data": {
      "text/plain": [
       "0.71"
      ]
     },
     "execution_count": 35,
     "metadata": {},
     "output_type": "execute_result"
    }
   ],
   "source": [
    "precision_score(y_true=y_test,\n",
    "                y_pred=predictions_scaled).round(3)"
   ]
  },
  {
   "cell_type": "code",
   "execution_count": 36,
   "id": "975950aa-d554-481d-9677-beaa6b927a46",
   "metadata": {},
   "outputs": [
    {
     "data": {
      "text/plain": [
       "0.846"
      ]
     },
     "execution_count": 36,
     "metadata": {},
     "output_type": "execute_result"
    }
   ],
   "source": [
    "recall_score(y_true=y_test,\n",
    "             y_pred=predictions_scaled).round(3)"
   ]
  },
  {
   "cell_type": "code",
   "execution_count": 37,
   "id": "8729a8b4-1ab8-4030-815a-ab886efdae31",
   "metadata": {},
   "outputs": [],
   "source": [
    "decisions_scaled = cross_val_predict(estimator=svc,\n",
    "                                       X=X_train_scaled,\n",
    "                                       y=y_train,\n",
    "                                       cv=3,\n",
    "                                       method='decision_function',\n",
    "                                       verbose=3)"
   ]
  },
  {
   "cell_type": "code",
   "execution_count": 38,
   "id": "b6788a32-e9ad-4cf3-87cc-4b9dc4b1fdf6",
   "metadata": {},
   "outputs": [
    {
     "data": {
      "image/png": "[encoded data removed]",
      "text/plain": [
       "<Figure size 800x400 with 1 Axes>"
      ]
     },
     "metadata": {},
     "output_type": "display_data"
    }
   ],
   "source": [
    "precisions_scaled, recalls_scaled, thresholds_scaled = precision_recall_curve(y_train, decisions_scaled)\n",
    "\n",
    "threshold_index = (precisions_scaled >= recalls_scaled).argmax()\n",
    "threshold = thresholds_scaled[threshold_index]\n",
    "\n",
    "plot_pr_comparison_curve(thresholds=thresholds_scaled,\n",
    "                         precisions=precisions_scaled,\n",
    "                         recalls=recalls_scaled,\n",
    "                         threshold_value=threshold)\n"
   ]
  },
  {
   "cell_type": "code",
   "execution_count": 39,
   "id": "580d51c5-3eb3-48bf-8b9f-750f779bba8e",
   "metadata": {},
   "outputs": [
    {
     "data": {
      "image/png": "[encoded data removed]",
      "text/plain": [
       "<Figure size 600x500 with 1 Axes>"
      ]
     },
     "metadata": {},
     "output_type": "display_data"
    }
   ],
   "source": [
    "plot_pr_curve(precisions=precisions_scaled,\n",
    "              recalls=recalls_scaled)"
   ]
  },
  {
   "cell_type": "code",
   "execution_count": 40,
   "id": "f665328e-50fd-484e-b8e0-d14918db8ecb",
   "metadata": {},
   "outputs": [
    {
     "data": {
      "image/png": "[encoded data removed]",
      "text/plain": [
       "<Figure size 600x500 with 1 Axes>"
      ]
     },
     "metadata": {},
     "output_type": "display_data"
    }
   ],
   "source": [
    "fpr_scaled, tpr_scaled, thresholds_scaled = roc_curve(y_train, decisions_scaled)\n",
    "\n",
    "plot_roc_curve(false_positive_rate=fpr_scaled,\n",
    "               true_positive_rate=tpr_scaled)"
   ]
  },
  {
   "cell_type": "markdown",
   "id": "70f628d9-565f-4c27-83b5-d71fa46a411d",
   "metadata": {},
   "source": [
    "From the evaluations above, it can be seen that scaling the features is not a good idea."
   ]
  },
  {
   "cell_type": "code",
   "execution_count": 41,
   "id": "eb906e54-35be-413f-8ece-b29d1627b842",
   "metadata": {},
   "outputs": [],
   "source": [
    "# deleting all variables with _scaled attached to them.\n",
    "for var_ in dir():\n",
    "    if '_scaled' in var_:\n",
    "        del globals()[var_]"
   ]
  },
  {
   "cell_type": "markdown",
   "id": "ca7c7eba-4e94-48a8-a3f8-fe641fa65826",
   "metadata": {},
   "source": [
    "Let's try another simple classifier."
   ]
  },
  {
   "cell_type": "code",
   "execution_count": 42,
   "id": "09fb792c-8df5-4869-a52f-8ac4e18b5b6a",
   "metadata": {},
   "outputs": [],
   "source": [
    "from sklearn.linear_model import LogisticRegression\n",
    "\n",
    "log_clf = LogisticRegression()\n",
    "log_clf.fit(X_train, y_train)\n",
    "\n",
    "log_predictions = log_clf.predict(X_test)"
   ]
  },
  {
   "cell_type": "code",
   "execution_count": 43,
   "id": "82f3bec0-e674-4a91-8e9c-9bc4c534b948",
   "metadata": {},
   "outputs": [
    {
     "data": {
      "text/plain": [
       "0.874"
      ]
     },
     "execution_count": 43,
     "metadata": {},
     "output_type": "execute_result"
    }
   ],
   "source": [
    "precision_score(y_true=y_test,\n",
    "                y_pred=log_predictions).round(3)"
   ]
  },
  {
   "cell_type": "code",
   "execution_count": 44,
   "id": "ed84b60f-df32-4b11-9777-c60b083c7fc8",
   "metadata": {},
   "outputs": [
    {
     "data": {
      "text/plain": [
       "0.731"
      ]
     },
     "execution_count": 44,
     "metadata": {},
     "output_type": "execute_result"
    }
   ],
   "source": [
    "recall_score(y_true=y_test,\n",
    "             y_pred=log_predictions).round(3)"
   ]
  },
  {
   "cell_type": "markdown",
   "id": "b2860def-9ae2-42a7-897b-ecb369649895",
   "metadata": {},
   "source": [
    "The logistic regression classifier has initial precision and recall which is better than the svm classifier. Let's plot its pr and roc curves."
   ]
  },
  {
   "cell_type": "code",
   "execution_count": 45,
   "id": "dc377656-96d8-462c-924f-09e1107e1693",
   "metadata": {},
   "outputs": [],
   "source": [
    "log_decisions = cross_val_predict(estimator=log_clf,\n",
    "                                  X=X_train,\n",
    "                                  y=y_train,\n",
    "                                  cv=3,\n",
    "                                  method='decision_function')\n",
    "\n",
    "\n",
    "\n",
    "log_precisions, log_recalls, log_thresholds = precision_recall_curve(y_train, log_decisions)\n",
    "\n",
    "threshold_index = (log_precisions >= log_recalls).argmax()\n",
    "threshold = log_thresholds[threshold_index]"
   ]
  },
  {
   "cell_type": "code",
   "execution_count": 46,
   "id": "cc307d06-124b-4a30-8630-3c68494df255",
   "metadata": {},
   "outputs": [
    {
     "data": {
      "image/png": "[encoded data removed]",
      "text/plain": [
       "<Figure size 800x400 with 1 Axes>"
      ]
     },
     "metadata": {},
     "output_type": "display_data"
    }
   ],
   "source": [
    "plot_pr_comparison_curve(precisions=log_precisions,\n",
    "                         recalls=log_recalls,\n",
    "                         thresholds=log_thresholds,\n",
    "                         threshold_value=threshold)"
   ]
  },
  {
   "cell_type": "code",
   "execution_count": 47,
   "id": "bdfd899e-6c41-4cd7-b126-10c10c0b710b",
   "metadata": {},
   "outputs": [
    {
     "data": {
      "image/png": "[encoded data removed]",
      "text/plain": [
       "<Figure size 600x500 with 1 Axes>"
      ]
     },
     "metadata": {},
     "output_type": "display_data"
    }
   ],
   "source": [
    "plot_pr_curve(precisions=log_precisions,\n",
    "              recalls=log_recalls)"
   ]
  },
  {
   "cell_type": "markdown",
   "id": "7fe0425a-057a-4497-bbeb-fb29983ade78",
   "metadata": {},
   "source": [
    "Let's compare the pr-curves of the svm and logistic regression classifiers."
   ]
  },
  {
   "cell_type": "code",
   "execution_count": 48,
   "id": "673f6e0d-26de-4b4d-8104-46994d62c704",
   "metadata": {},
   "outputs": [
    {
     "data": {
      "image/png": "[encoded data removed]",
      "text/plain": [
       "<Figure size 600x500 with 1 Axes>"
      ]
     },
     "metadata": {},
     "output_type": "display_data"
    }
   ],
   "source": [
    "def compare_pr_curves(recalls_list, precisions_list, first_label, second_label):\n",
    "\n",
    "    \"\"\" Compares two different pr-curve plots\n",
    "\n",
    "    Parameters:\n",
    "\n",
    "    recalls_list: list of arrays\n",
    "                  A list of the arrays of the different recalls. Order must be \n",
    "                  taken into account.\n",
    "\n",
    "    precisions_list: list of arrays\n",
    "                     A list of the arrays of the different precisions. Order must\n",
    "                     be taken into account.\n",
    "\n",
    "    first_label: string\n",
    "                 The label of the first plot.\n",
    "\n",
    "    second_label: string\n",
    "                  The label of the second plot.\n",
    "                  \n",
    "    \n",
    "    \"\"\"\n",
    "    plt.figure(figsize=(6, 5))\n",
    "    plt.plot(recalls_list[0], precisions_list[0], \"b-\", linewidth=2, label=first_label)\n",
    "    plt.plot(recalls_list[1], precisions_list[1], \"g-\",linewidth=2, label=second_label)\n",
    "    plt.xlabel(\"Recall\")\n",
    "    plt.ylabel(\"Precision\")\n",
    "    plt.grid()\n",
    "    plt.legend(loc=\"lower left\")\n",
    "    plt.show()\n",
    "\n",
    "compare_pr_curves(recalls_list=[recalls, log_recalls],\n",
    "                  precisions_list=[precisions, log_precisions],\n",
    "                  first_label=\"SVM\",\n",
    "                  second_label=\"Logistic Regression\")"
   ]
  },
  {
   "cell_type": "markdown",
   "id": "6ca4c153-e8aa-4d69-826b-73652f77a521",
   "metadata": {},
   "source": [
    "It is again shown that the svm classifier is performing slightly better than the logistic regression classifier."
   ]
  },
  {
   "cell_type": "markdown",
   "id": "f89c89dc-ae8c-49ad-bd89-59b156fb2ec8",
   "metadata": {},
   "source": [
    "Let's make use of more complex models next."
   ]
  },
  {
   "cell_type": "markdown",
   "id": "a0cacfc4-fb2b-4bdd-9984-63132fad996c",
   "metadata": {},
   "source": [
    "### Complex Models"
   ]
  },
  {
   "cell_type": "code",
   "execution_count": 49,
   "id": "93906cc5-93f9-49c4-95d2-615c13a19c5c",
   "metadata": {},
   "outputs": [
    {
     "data": {
      "text/html": [
       "<style>#sk-container-id-1 {color: black;}#sk-container-id-1 pre{padding: 0;}#sk-container-id-1 div.sk-toggleable {background-color: white;}#sk-container-id-1 label.sk-toggleable__label {cursor: pointer;display: block;width: 100%;margin-bottom: 0;padding: 0.3em;box-sizing: border-box;text-align: center;}#sk-container-id-1 label.sk-toggleable__label-arrow:before {content: \"▸\";float: left;margin-right: 0.25em;color: #696969;}#sk-container-id-1 label.sk-toggleable__label-arrow:hover:before {color: black;}#sk-container-id-1 div.sk-estimator:hover label.sk-toggleable__label-arrow:before {color: black;}#sk-container-id-1 div.sk-toggleable__content {max-height: 0;max-width: 0;overflow: hidden;text-align: left;background-color: #f0f8ff;}#sk-container-id-1 div.sk-toggleable__content pre {margin: 0.2em;color: black;border-radius: 0.25em;background-color: #f0f8ff;}#sk-container-id-1 input.sk-toggleable__control:checked~div.sk-toggleable__content {max-height: 200px;max-width: 100%;overflow: auto;}#sk-container-id-1 input.sk-toggleable__control:checked~label.sk-toggleable__label-arrow:before {content: \"▾\";}#sk-container-id-1 div.sk-estimator input.sk-toggleable__control:checked~label.sk-toggleable__label {background-color: #d4ebff;}#sk-container-id-1 div.sk-label input.sk-toggleable__control:checked~label.sk-toggleable__label {background-color: #d4ebff;}#sk-container-id-1 input.sk-hidden--visually {border: 0;clip: rect(1px 1px 1px 1px);clip: rect(1px, 1px, 1px, 1px);height: 1px;margin: -1px;overflow: hidden;padding: 0;position: absolute;width: 1px;}#sk-container-id-1 div.sk-estimator {font-family: monospace;background-color: #f0f8ff;border: 1px dotted black;border-radius: 0.25em;box-sizing: border-box;margin-bottom: 0.5em;}#sk-container-id-1 div.sk-estimator:hover {background-color: #d4ebff;}#sk-container-id-1 div.sk-parallel-item::after {content: \"\";width: 100%;border-bottom: 1px solid gray;flex-grow: 1;}#sk-container-id-1 div.sk-label:hover label.sk-toggleable__label {background-color: #d4ebff;}#sk-container-id-1 div.sk-serial::before {content: \"\";position: absolute;border-left: 1px solid gray;box-sizing: border-box;top: 0;bottom: 0;left: 50%;z-index: 0;}#sk-container-id-1 div.sk-serial {display: flex;flex-direction: column;align-items: center;background-color: white;padding-right: 0.2em;padding-left: 0.2em;position: relative;}#sk-container-id-1 div.sk-item {position: relative;z-index: 1;}#sk-container-id-1 div.sk-parallel {display: flex;align-items: stretch;justify-content: center;background-color: white;position: relative;}#sk-container-id-1 div.sk-item::before, #sk-container-id-1 div.sk-parallel-item::before {content: \"\";position: absolute;border-left: 1px solid gray;box-sizing: border-box;top: 0;bottom: 0;left: 50%;z-index: -1;}#sk-container-id-1 div.sk-parallel-item {display: flex;flex-direction: column;z-index: 1;position: relative;background-color: white;}#sk-container-id-1 div.sk-parallel-item:first-child::after {align-self: flex-end;width: 50%;}#sk-container-id-1 div.sk-parallel-item:last-child::after {align-self: flex-start;width: 50%;}#sk-container-id-1 div.sk-parallel-item:only-child::after {width: 0;}#sk-container-id-1 div.sk-dashed-wrapped {border: 1px dashed gray;margin: 0 0.4em 0.5em 0.4em;box-sizing: border-box;padding-bottom: 0.4em;background-color: white;}#sk-container-id-1 div.sk-label label {font-family: monospace;font-weight: bold;display: inline-block;line-height: 1.2em;}#sk-container-id-1 div.sk-label-container {text-align: center;}#sk-container-id-1 div.sk-container {/* jupyter's `normalize.less` sets `[hidden] { display: none; }` but bootstrap.min.css set `[hidden] { display: none !important; }` so we also need the `!important` here to be able to override the default hidden behavior on the sphinx rendered scikit-learn.org. See: https://github.com/scikit-learn/scikit-learn/issues/21755 */display: inline-block !important;position: relative;}#sk-container-id-1 div.sk-text-repr-fallback {display: none;}</style><div id=\"sk-container-id-1\" class=\"sk-top-container\"><div class=\"sk-text-repr-fallback\"><pre>RandomForestClassifier(random_state=42)</pre><b>In a Jupyter environment, please rerun this cell to show the HTML representation or trust the notebook. <br />On GitHub, the HTML representation is unable to render, please try loading this page with nbviewer.org.</b></div><div class=\"sk-container\" hidden><div class=\"sk-item\"><div class=\"sk-estimator sk-toggleable\"><input class=\"sk-toggleable__control sk-hidden--visually\" id=\"sk-estimator-id-1\" type=\"checkbox\" checked><label for=\"sk-estimator-id-1\" class=\"sk-toggleable__label sk-toggleable__label-arrow\">RandomForestClassifier</label><div class=\"sk-toggleable__content\"><pre>RandomForestClassifier(random_state=42)</pre></div></div></div></div></div>"
      ],
      "text/plain": [
       "RandomForestClassifier(random_state=42)"
      ]
     },
     "execution_count": 49,
     "metadata": {},
     "output_type": "execute_result"
    }
   ],
   "source": [
    "from sklearn.ensemble import RandomForestClassifier\n",
    "\n",
    "rf_clf = RandomForestClassifier(random_state=42, )\n",
    "\n",
    "rf_clf.fit(X_train, y_train)"
   ]
  },
  {
   "cell_type": "code",
   "execution_count": 50,
   "id": "c7d10c21-ac91-4f61-9d9b-c719e685c16e",
   "metadata": {},
   "outputs": [
    {
     "data": {
      "text/plain": [
       "0.917"
      ]
     },
     "execution_count": 50,
     "metadata": {},
     "output_type": "execute_result"
    }
   ],
   "source": [
    "rf_y_pred = rf_clf.predict(X_test)\n",
    "\n",
    "precision_score(y_true=y_test,\n",
    "                y_pred=rf_y_pred).round(3)"
   ]
  },
  {
   "cell_type": "code",
   "execution_count": 51,
   "id": "1df2a856-751b-4745-81e3-b9384ccd7b36",
   "metadata": {},
   "outputs": [
    {
     "data": {
      "text/plain": [
       "0.635"
      ]
     },
     "execution_count": 51,
     "metadata": {},
     "output_type": "execute_result"
    }
   ],
   "source": [
    "recall_score(y_true=y_test,\n",
    "             y_pred=rf_y_pred).round(3)"
   ]
  },
  {
   "cell_type": "markdown",
   "id": "2933ca49-e530-462b-9c2b-82f9397fa2af",
   "metadata": {},
   "source": [
    "The random forest classifier gives a very high precision but at the cost of the recall. Let's observe how it's precision and recall relate and adjust its threshold value accordingly to increase its recall a bit."
   ]
  },
  {
   "cell_type": "code",
   "execution_count": 52,
   "id": "a52536b1-a3ca-4d5e-b055-fedf365b3d36",
   "metadata": {},
   "outputs": [
    {
     "data": {
      "image/png": "[encoded data removed]",
      "text/plain": [
       "<Figure size 800x400 with 1 Axes>"
      ]
     },
     "metadata": {},
     "output_type": "display_data"
    }
   ],
   "source": [
    "rf_probs = cross_val_predict(estimator=rf_clf,\n",
    "                                 X=X_train,\n",
    "                                 y=y_train,\n",
    "                                 cv=3,\n",
    "                                 method='predict_proba')\n",
    "\n",
    "rf_y_scores = rf_probs[:,1]\n",
    "\n",
    "rf_precisions, rf_recalls, rf_thresholds = precision_recall_curve(y_train, rf_y_scores)\n",
    "\n",
    "threshold_index = (rf_precisions >= rf_recalls).argmax()\n",
    "threshold = rf_thresholds[threshold_index]\n",
    "\n",
    "plot_pr_comparison_curve(precisions=rf_precisions,\n",
    "                         recalls=rf_recalls,\n",
    "                         thresholds=rf_thresholds,\n",
    "                         threshold_value = threshold)"
   ]
  },
  {
   "cell_type": "markdown",
   "id": "5097b25f-f181-404b-b4dd-856b15d7487e",
   "metadata": {},
   "source": [
    "Let's shift this threshold slightly to left and analyze the results on the test set."
   ]
  },
  {
   "cell_type": "code",
   "execution_count": 53,
   "id": "a36a2834-504f-437e-8807-d3fdf8bbe6cd",
   "metadata": {},
   "outputs": [],
   "source": [
    "threshold -=0.1"
   ]
  },
  {
   "cell_type": "code",
   "execution_count": 54,
   "id": "1994eb8f-558f-492b-bd71-5312adc95392",
   "metadata": {},
   "outputs": [],
   "source": [
    "new_rf_y_pred = (rf_clf.predict_proba(X_test)[:,1] >= threshold).astype(int)"
   ]
  },
  {
   "cell_type": "code",
   "execution_count": 55,
   "id": "811ac5a1-b9bd-42d5-82c6-bfddfde25c7c",
   "metadata": {},
   "outputs": [
    {
     "data": {
      "text/plain": [
       "0.8"
      ]
     },
     "execution_count": 55,
     "metadata": {},
     "output_type": "execute_result"
    }
   ],
   "source": [
    "precision_score(y_true=y_test,\n",
    "                y_pred=new_rf_y_pred).round(3)\n",
    "                "
   ]
  },
  {
   "cell_type": "code",
   "execution_count": 56,
   "id": "717f8d8a-2f79-4bea-96aa-64363e21637f",
   "metadata": {},
   "outputs": [
    {
     "data": {
      "text/plain": [
       "0.846"
      ]
     },
     "execution_count": 56,
     "metadata": {},
     "output_type": "execute_result"
    }
   ],
   "source": [
    "recall_score(y_true=y_test,\n",
    "             y_pred=new_rf_y_pred).round(3)"
   ]
  },
  {
   "cell_type": "code",
   "execution_count": 57,
   "id": "16afec04-0fd2-4e13-bcd6-d1a1494ebb5b",
   "metadata": {},
   "outputs": [
    {
     "data": {
      "image/png": "[encoded data removed]",
      "text/plain": [
       "<Figure size 600x500 with 1 Axes>"
      ]
     },
     "metadata": {},
     "output_type": "display_data"
    }
   ],
   "source": [
    "plot_pr_curve(recalls=rf_recalls,\n",
    "              precisions=rf_precisions)"
   ]
  },
  {
   "cell_type": "markdown",
   "id": "e8b09888-85ef-4a42-a445-fdcb726ad49e",
   "metadata": {},
   "source": [
    "Now let's compare it with the svm classifier."
   ]
  },
  {
   "cell_type": "code",
   "execution_count": 58,
   "id": "787ea04b-aa14-45be-a8f7-3f2d7c1a75d2",
   "metadata": {},
   "outputs": [
    {
     "data": {
      "image/png": "[encoded data removed]",
      "text/plain": [
       "<Figure size 600x500 with 1 Axes>"
      ]
     },
     "metadata": {},
     "output_type": "display_data"
    }
   ],
   "source": [
    "compare_pr_curves(recalls_list=[recalls, rf_recalls],\n",
    "                  precisions_list=[precisions, rf_precisions],\n",
    "                  first_label=\"SVM\",\n",
    "                  second_label=\"Random Forest\")"
   ]
  },
  {
   "cell_type": "markdown",
   "id": "fcc16d11-ba6f-4a79-b8c1-89ae8cd93129",
   "metadata": {},
   "source": [
    "From above it can be seen that the svm classifier does generally better than the random forest classifier."
   ]
  },
  {
   "cell_type": "markdown",
   "id": "02a6df9e-c37e-4c02-815f-dcc5610f9112",
   "metadata": {},
   "source": [
    "Let's try another ensemble and see how it performs compared to the svm classifier."
   ]
  },
  {
   "cell_type": "code",
   "execution_count": 59,
   "id": "4b2f5397-4f8c-4fa1-89ea-573b760ba4f1",
   "metadata": {},
   "outputs": [
    {
     "data": {
      "text/html": [
       "<style>#sk-container-id-2 {color: black;}#sk-container-id-2 pre{padding: 0;}#sk-container-id-2 div.sk-toggleable {background-color: white;}#sk-container-id-2 label.sk-toggleable__label {cursor: pointer;display: block;width: 100%;margin-bottom: 0;padding: 0.3em;box-sizing: border-box;text-align: center;}#sk-container-id-2 label.sk-toggleable__label-arrow:before {content: \"▸\";float: left;margin-right: 0.25em;color: #696969;}#sk-container-id-2 label.sk-toggleable__label-arrow:hover:before {color: black;}#sk-container-id-2 div.sk-estimator:hover label.sk-toggleable__label-arrow:before {color: black;}#sk-container-id-2 div.sk-toggleable__content {max-height: 0;max-width: 0;overflow: hidden;text-align: left;background-color: #f0f8ff;}#sk-container-id-2 div.sk-toggleable__content pre {margin: 0.2em;color: black;border-radius: 0.25em;background-color: #f0f8ff;}#sk-container-id-2 input.sk-toggleable__control:checked~div.sk-toggleable__content {max-height: 200px;max-width: 100%;overflow: auto;}#sk-container-id-2 input.sk-toggleable__control:checked~label.sk-toggleable__label-arrow:before {content: \"▾\";}#sk-container-id-2 div.sk-estimator input.sk-toggleable__control:checked~label.sk-toggleable__label {background-color: #d4ebff;}#sk-container-id-2 div.sk-label input.sk-toggleable__control:checked~label.sk-toggleable__label {background-color: #d4ebff;}#sk-container-id-2 input.sk-hidden--visually {border: 0;clip: rect(1px 1px 1px 1px);clip: rect(1px, 1px, 1px, 1px);height: 1px;margin: -1px;overflow: hidden;padding: 0;position: absolute;width: 1px;}#sk-container-id-2 div.sk-estimator {font-family: monospace;background-color: #f0f8ff;border: 1px dotted black;border-radius: 0.25em;box-sizing: border-box;margin-bottom: 0.5em;}#sk-container-id-2 div.sk-estimator:hover {background-color: #d4ebff;}#sk-container-id-2 div.sk-parallel-item::after {content: \"\";width: 100%;border-bottom: 1px solid gray;flex-grow: 1;}#sk-container-id-2 div.sk-label:hover label.sk-toggleable__label {background-color: #d4ebff;}#sk-container-id-2 div.sk-serial::before {content: \"\";position: absolute;border-left: 1px solid gray;box-sizing: border-box;top: 0;bottom: 0;left: 50%;z-index: 0;}#sk-container-id-2 div.sk-serial {display: flex;flex-direction: column;align-items: center;background-color: white;padding-right: 0.2em;padding-left: 0.2em;position: relative;}#sk-container-id-2 div.sk-item {position: relative;z-index: 1;}#sk-container-id-2 div.sk-parallel {display: flex;align-items: stretch;justify-content: center;background-color: white;position: relative;}#sk-container-id-2 div.sk-item::before, #sk-container-id-2 div.sk-parallel-item::before {content: \"\";position: absolute;border-left: 1px solid gray;box-sizing: border-box;top: 0;bottom: 0;left: 50%;z-index: -1;}#sk-container-id-2 div.sk-parallel-item {display: flex;flex-direction: column;z-index: 1;position: relative;background-color: white;}#sk-container-id-2 div.sk-parallel-item:first-child::after {align-self: flex-end;width: 50%;}#sk-container-id-2 div.sk-parallel-item:last-child::after {align-self: flex-start;width: 50%;}#sk-container-id-2 div.sk-parallel-item:only-child::after {width: 0;}#sk-container-id-2 div.sk-dashed-wrapped {border: 1px dashed gray;margin: 0 0.4em 0.5em 0.4em;box-sizing: border-box;padding-bottom: 0.4em;background-color: white;}#sk-container-id-2 div.sk-label label {font-family: monospace;font-weight: bold;display: inline-block;line-height: 1.2em;}#sk-container-id-2 div.sk-label-container {text-align: center;}#sk-container-id-2 div.sk-container {/* jupyter's `normalize.less` sets `[hidden] { display: none; }` but bootstrap.min.css set `[hidden] { display: none !important; }` so we also need the `!important` here to be able to override the default hidden behavior on the sphinx rendered scikit-learn.org. See: https://github.com/scikit-learn/scikit-learn/issues/21755 */display: inline-block !important;position: relative;}#sk-container-id-2 div.sk-text-repr-fallback {display: none;}</style><div id=\"sk-container-id-2\" class=\"sk-top-container\"><div class=\"sk-text-repr-fallback\"><pre>GradientBoostingClassifier()</pre><b>In a Jupyter environment, please rerun this cell to show the HTML representation or trust the notebook. <br />On GitHub, the HTML representation is unable to render, please try loading this page with nbviewer.org.</b></div><div class=\"sk-container\" hidden><div class=\"sk-item\"><div class=\"sk-estimator sk-toggleable\"><input class=\"sk-toggleable__control sk-hidden--visually\" id=\"sk-estimator-id-2\" type=\"checkbox\" checked><label for=\"sk-estimator-id-2\" class=\"sk-toggleable__label sk-toggleable__label-arrow\">GradientBoostingClassifier</label><div class=\"sk-toggleable__content\"><pre>GradientBoostingClassifier()</pre></div></div></div></div></div>"
      ],
      "text/plain": [
       "GradientBoostingClassifier()"
      ]
     },
     "execution_count": 59,
     "metadata": {},
     "output_type": "execute_result"
    }
   ],
   "source": [
    "from sklearn.ensemble import GradientBoostingClassifier\n",
    "\n",
    "gbm = GradientBoostingClassifier()\n",
    "gbm.fit(X_train, y_train)"
   ]
  },
  {
   "cell_type": "code",
   "execution_count": 60,
   "id": "6961dde4-3069-4a22-bee1-139ae9584f35",
   "metadata": {},
   "outputs": [],
   "source": [
    "gbm_probs = cross_val_predict(estimator=gbm,\n",
    "                              X=X_train,\n",
    "                              y=y_train,\n",
    "                              cv=3,\n",
    "                              method='predict_proba')"
   ]
  },
  {
   "cell_type": "code",
   "execution_count": 61,
   "id": "568d5119-9e7e-4b3b-8505-a878363a0b69",
   "metadata": {},
   "outputs": [],
   "source": [
    "gbm_y_prob = gbm_probs[:,1]\n",
    "\n",
    "\n",
    "gbm_precisions, gbm_recalls, gbm_thresholds = precision_recall_curve(y_true=y_train,\n",
    "                                                                     probas_pred=gbm_y_prob)"
   ]
  },
  {
   "cell_type": "code",
   "execution_count": 62,
   "id": "37b76963-965c-4697-90df-d6935d715905",
   "metadata": {},
   "outputs": [
    {
     "data": {
      "image/png": "[encoded data removed]",
      "text/plain": [
       "<Figure size 600x500 with 1 Axes>"
      ]
     },
     "metadata": {},
     "output_type": "display_data"
    }
   ],
   "source": [
    "compare_pr_curves(recalls_list=[recalls, gbm_recalls],\n",
    "                  precisions_list=[precisions, gbm_precisions],\n",
    "                  first_label=\"SVM\",\n",
    "                  second_label=\"GBM\")"
   ]
  },
  {
   "cell_type": "markdown",
   "id": "ef47f447-9dea-4235-9321-c276e93ab9a4",
   "metadata": {},
   "source": [
    "Since the svm classifier is performing better than all the models, it will be our model of choice."
   ]
  },
  {
   "cell_type": "markdown",
   "id": "047418d0-1ed9-4a83-855b-a718f2974724",
   "metadata": {},
   "source": [
    "### Error Analysis."
   ]
  },
  {
   "cell_type": "markdown",
   "id": "1769b420-0412-44af-a724-06877d99b415",
   "metadata": {},
   "source": [
    "Now let's try and find out some of the mistakes our selected model makes and try to fix it to get better results. We'll do this by using a confusion matrix."
   ]
  },
  {
   "cell_type": "code",
   "execution_count": 63,
   "id": "e8c5f9e8-1b1f-4d48-adcf-eefe9a15d65a",
   "metadata": {},
   "outputs": [],
   "source": [
    "y_train_pred = cross_val_predict(estimator=SVC(),\n",
    "                                 X=X_train,\n",
    "                                 y=y_train,\n",
    "                                 cv=3,\n",
    "                                 method='predict')"
   ]
  },
  {
   "cell_type": "code",
   "execution_count": 64,
   "id": "e048d658-53b0-4ae4-9641-d96c6c0fcd78",
   "metadata": {},
   "outputs": [
    {
     "data": {
      "image/png": "[encoded data removed]",
      "text/plain": [
       "<Figure size 640x480 with 2 Axes>"
      ]
     },
     "metadata": {},
     "output_type": "display_data"
    }
   ],
   "source": [
    "from sklearn.metrics import ConfusionMatrixDisplay\n",
    "\n",
    "plt.rc('font', size=9) \n",
    "ConfusionMatrixDisplay.from_predictions(y_true=y_train,\n",
    "                                        y_pred=y_train_pred,\n",
    "                                        normalize=\"true\",\n",
    "                                        values_format=\".0%\")\n",
    "plt.show()"
   ]
  },
  {
   "cell_type": "markdown",
   "id": "6555d59b-496b-45fa-9364-268d3ce5793b",
   "metadata": {},
   "source": [
    "From above it can be seen that our chosen classifier has a false negative rate of 15% and a false positive rate of 23%. The model is thus misclassifying some positive reviews. Let's see the examples it's misclassifying."
   ]
  },
  {
   "cell_type": "code",
   "execution_count": 65,
   "id": "328e6a2a-fb49-429b-97c9-e6c07fb0931d",
   "metadata": {},
   "outputs": [],
   "source": [
    "false_positives = ((y_train==1) & (y_train_pred == 0)).astype(int)\n",
    "index = np.argwhere(false_positives == 1).flatten()\n",
    "false_positive_idx = y_train.iloc[index].index"
   ]
  },
  {
   "cell_type": "code",
   "execution_count": 66,
   "id": "fbe0215f-929d-4890-b7b8-5e4345c98f7e",
   "metadata": {},
   "outputs": [
    {
     "name": "stdout",
     "output_type": "stream",
     "text": [
      "get inside impressed place\n",
      "point finger item menu order not disappointed\n",
      "back many times soon\n",
      "folks otto always make us feel welcome special\n",
      "everyone treated equally special\n",
      "not small family restaurant fine dining establishment\n",
      "would recommend saving room\n",
      "not disappointed\n",
      "nice blanket moz top feel like done cover subpar food\n",
      "restaurant always full never wait\n"
     ]
    }
   ],
   "source": [
    "for review in cleaned_data['Review'].iloc[false_positive_idx].head(10):\n",
    "    print(review)"
   ]
  },
  {
   "cell_type": "code",
   "execution_count": 67,
   "id": "f5eb02bb-ce71-42fa-af08-1fe09f821f04",
   "metadata": {},
   "outputs": [
    {
     "data": {
      "text/plain": [
       "799    True\n",
       "519    True\n",
       "490    True\n",
       "227    True\n",
       "352    True\n",
       "       ... \n",
       "769    True\n",
       "661    True\n",
       "214    True\n",
       "71     True\n",
       "270    True\n",
       "Name: Review, Length: 90, dtype: bool"
      ]
     },
     "execution_count": 67,
     "metadata": {},
     "output_type": "execute_result"
    }
   ],
   "source": [
    "cleaned_data['Review'].iloc[false_positive_idx].str.contains('n|t')"
   ]
  },
  {
   "cell_type": "markdown",
   "id": "8ee78f03-3fdd-4fea-9788-70fdf7ee0a43",
   "metadata": {},
   "source": [
    "It can be seen that classifier is mapping the reviews containing both \"n\" or \"t\" to negative instead of positive. Meaning that the classifier is mapping any review containing any negatives to the negative class. One way this can be fixed is by getting more examples containing such letters but correctly mapped to a positive review. We can also tune our model hyperparameters and evaluate it's performance on the errors noticed."
   ]
  },
  {
   "cell_type": "markdown",
   "id": "91c97816-9cc7-4e96-8874-1e22c5b44c86",
   "metadata": {},
   "source": [
    "### Model Tuning"
   ]
  },
  {
   "cell_type": "markdown",
   "id": "54ee59dc-b652-4144-8360-97efca5c8466",
   "metadata": {},
   "source": [
    "Now let's tune our model by making a grid search over some of it's hyperparameters. "
   ]
  },
  {
   "cell_type": "code",
   "execution_count": 68,
   "id": "2737a7b5-f15e-4bd5-a844-fc0cae40a776",
   "metadata": {},
   "outputs": [
    {
     "data": {
      "text/html": [
       "<style>#sk-container-id-3 {color: black;}#sk-container-id-3 pre{padding: 0;}#sk-container-id-3 div.sk-toggleable {background-color: white;}#sk-container-id-3 label.sk-toggleable__label {cursor: pointer;display: block;width: 100%;margin-bottom: 0;padding: 0.3em;box-sizing: border-box;text-align: center;}#sk-container-id-3 label.sk-toggleable__label-arrow:before {content: \"▸\";float: left;margin-right: 0.25em;color: #696969;}#sk-container-id-3 label.sk-toggleable__label-arrow:hover:before {color: black;}#sk-container-id-3 div.sk-estimator:hover label.sk-toggleable__label-arrow:before {color: black;}#sk-container-id-3 div.sk-toggleable__content {max-height: 0;max-width: 0;overflow: hidden;text-align: left;background-color: #f0f8ff;}#sk-container-id-3 div.sk-toggleable__content pre {margin: 0.2em;color: black;border-radius: 0.25em;background-color: #f0f8ff;}#sk-container-id-3 input.sk-toggleable__control:checked~div.sk-toggleable__content {max-height: 200px;max-width: 100%;overflow: auto;}#sk-container-id-3 input.sk-toggleable__control:checked~label.sk-toggleable__label-arrow:before {content: \"▾\";}#sk-container-id-3 div.sk-estimator input.sk-toggleable__control:checked~label.sk-toggleable__label {background-color: #d4ebff;}#sk-container-id-3 div.sk-label input.sk-toggleable__control:checked~label.sk-toggleable__label {background-color: #d4ebff;}#sk-container-id-3 input.sk-hidden--visually {border: 0;clip: rect(1px 1px 1px 1px);clip: rect(1px, 1px, 1px, 1px);height: 1px;margin: -1px;overflow: hidden;padding: 0;position: absolute;width: 1px;}#sk-container-id-3 div.sk-estimator {font-family: monospace;background-color: #f0f8ff;border: 1px dotted black;border-radius: 0.25em;box-sizing: border-box;margin-bottom: 0.5em;}#sk-container-id-3 div.sk-estimator:hover {background-color: #d4ebff;}#sk-container-id-3 div.sk-parallel-item::after {content: \"\";width: 100%;border-bottom: 1px solid gray;flex-grow: 1;}#sk-container-id-3 div.sk-label:hover label.sk-toggleable__label {background-color: #d4ebff;}#sk-container-id-3 div.sk-serial::before {content: \"\";position: absolute;border-left: 1px solid gray;box-sizing: border-box;top: 0;bottom: 0;left: 50%;z-index: 0;}#sk-container-id-3 div.sk-serial {display: flex;flex-direction: column;align-items: center;background-color: white;padding-right: 0.2em;padding-left: 0.2em;position: relative;}#sk-container-id-3 div.sk-item {position: relative;z-index: 1;}#sk-container-id-3 div.sk-parallel {display: flex;align-items: stretch;justify-content: center;background-color: white;position: relative;}#sk-container-id-3 div.sk-item::before, #sk-container-id-3 div.sk-parallel-item::before {content: \"\";position: absolute;border-left: 1px solid gray;box-sizing: border-box;top: 0;bottom: 0;left: 50%;z-index: -1;}#sk-container-id-3 div.sk-parallel-item {display: flex;flex-direction: column;z-index: 1;position: relative;background-color: white;}#sk-container-id-3 div.sk-parallel-item:first-child::after {align-self: flex-end;width: 50%;}#sk-container-id-3 div.sk-parallel-item:last-child::after {align-self: flex-start;width: 50%;}#sk-container-id-3 div.sk-parallel-item:only-child::after {width: 0;}#sk-container-id-3 div.sk-dashed-wrapped {border: 1px dashed gray;margin: 0 0.4em 0.5em 0.4em;box-sizing: border-box;padding-bottom: 0.4em;background-color: white;}#sk-container-id-3 div.sk-label label {font-family: monospace;font-weight: bold;display: inline-block;line-height: 1.2em;}#sk-container-id-3 div.sk-label-container {text-align: center;}#sk-container-id-3 div.sk-container {/* jupyter's `normalize.less` sets `[hidden] { display: none; }` but bootstrap.min.css set `[hidden] { display: none !important; }` so we also need the `!important` here to be able to override the default hidden behavior on the sphinx rendered scikit-learn.org. See: https://github.com/scikit-learn/scikit-learn/issues/21755 */display: inline-block !important;position: relative;}#sk-container-id-3 div.sk-text-repr-fallback {display: none;}</style><div id=\"sk-container-id-3\" class=\"sk-top-container\"><div class=\"sk-text-repr-fallback\"><pre>GridSearchCV(cv=3, estimator=SVC(),\n",
       "             param_grid={&#x27;C&#x27;: array([0.1, 0.2, 0.3, 0.4, 0.5, 0.6, 0.7, 0.8, 0.9, 1. ]),\n",
       "                         &#x27;gamma&#x27;: [&#x27;scale&#x27;, &#x27;auto&#x27;],\n",
       "                         &#x27;kernel&#x27;: [&#x27;poly&#x27;, &#x27;rbf&#x27;, &#x27;sigmoid&#x27;]},\n",
       "             scoring=&#x27;f1&#x27;)</pre><b>In a Jupyter environment, please rerun this cell to show the HTML representation or trust the notebook. <br />On GitHub, the HTML representation is unable to render, please try loading this page with nbviewer.org.</b></div><div class=\"sk-container\" hidden><div class=\"sk-item sk-dashed-wrapped\"><div class=\"sk-label-container\"><div class=\"sk-label sk-toggleable\"><input class=\"sk-toggleable__control sk-hidden--visually\" id=\"sk-estimator-id-3\" type=\"checkbox\" ><label for=\"sk-estimator-id-3\" class=\"sk-toggleable__label sk-toggleable__label-arrow\">GridSearchCV</label><div class=\"sk-toggleable__content\"><pre>GridSearchCV(cv=3, estimator=SVC(),\n",
       "             param_grid={&#x27;C&#x27;: array([0.1, 0.2, 0.3, 0.4, 0.5, 0.6, 0.7, 0.8, 0.9, 1. ]),\n",
       "                         &#x27;gamma&#x27;: [&#x27;scale&#x27;, &#x27;auto&#x27;],\n",
       "                         &#x27;kernel&#x27;: [&#x27;poly&#x27;, &#x27;rbf&#x27;, &#x27;sigmoid&#x27;]},\n",
       "             scoring=&#x27;f1&#x27;)</pre></div></div></div><div class=\"sk-parallel\"><div class=\"sk-parallel-item\"><div class=\"sk-item\"><div class=\"sk-label-container\"><div class=\"sk-label sk-toggleable\"><input class=\"sk-toggleable__control sk-hidden--visually\" id=\"sk-estimator-id-4\" type=\"checkbox\" ><label for=\"sk-estimator-id-4\" class=\"sk-toggleable__label sk-toggleable__label-arrow\">estimator: SVC</label><div class=\"sk-toggleable__content\"><pre>SVC()</pre></div></div></div><div class=\"sk-serial\"><div class=\"sk-item\"><div class=\"sk-estimator sk-toggleable\"><input class=\"sk-toggleable__control sk-hidden--visually\" id=\"sk-estimator-id-5\" type=\"checkbox\" ><label for=\"sk-estimator-id-5\" class=\"sk-toggleable__label sk-toggleable__label-arrow\">SVC</label><div class=\"sk-toggleable__content\"><pre>SVC()</pre></div></div></div></div></div></div></div></div></div></div>"
      ],
      "text/plain": [
       "GridSearchCV(cv=3, estimator=SVC(),\n",
       "             param_grid={'C': array([0.1, 0.2, 0.3, 0.4, 0.5, 0.6, 0.7, 0.8, 0.9, 1. ]),\n",
       "                         'gamma': ['scale', 'auto'],\n",
       "                         'kernel': ['poly', 'rbf', 'sigmoid']},\n",
       "             scoring='f1')"
      ]
     },
     "execution_count": 68,
     "metadata": {},
     "output_type": "execute_result"
    }
   ],
   "source": [
    "from scipy.stats import loguniform\n",
    "from sklearn.model_selection import GridSearchCV\n",
    "\n",
    "chosen_model = SVC()\n",
    "\n",
    "param_grid = dict(C = np.linspace(start=0.1, stop=1.0, num=10),\n",
    "                  kernel = [\"poly\", \"rbf\", \"sigmoid\"],\n",
    "                  gamma = [\"scale\", \"auto\"])\n",
    "\n",
    "\n",
    "grid_search = GridSearchCV(estimator=chosen_model,\n",
    "                           param_grid=param_grid,\n",
    "                           scoring=\"f1\",\n",
    "                           cv=3)\n",
    "grid_search.fit(X_train, y_train)                  "
   ]
  },
  {
   "cell_type": "markdown",
   "id": "b7cec594-ef35-4007-ad80-2148cebf6499",
   "metadata": {},
   "source": [
    "Now let's evaluate our best estimator's performance."
   ]
  },
  {
   "cell_type": "code",
   "execution_count": 69,
   "id": "3827f2f6-6ba8-4e95-a7fb-ca3d7efabae7",
   "metadata": {},
   "outputs": [],
   "source": [
    "best_svm = grid_search.best_estimator_\n",
    "\n",
    "best_svm.fit(X_train, y_train)\n",
    "\n",
    "best_predictions = best_svm.predict(X_test)"
   ]
  },
  {
   "cell_type": "code",
   "execution_count": 70,
   "id": "df3dc3c0-b1fd-4999-8b86-8db266da8bd5",
   "metadata": {},
   "outputs": [
    {
     "data": {
      "text/plain": [
       "0.879"
      ]
     },
     "execution_count": 70,
     "metadata": {},
     "output_type": "execute_result"
    }
   ],
   "source": [
    "precision_score(y_true=y_test,\n",
    "                y_pred=best_predictions).round(3)"
   ]
  },
  {
   "cell_type": "code",
   "execution_count": 71,
   "id": "a95d1cd4-33a6-45dd-92dd-f32e7321a293",
   "metadata": {},
   "outputs": [
    {
     "data": {
      "text/plain": [
       "0.769"
      ]
     },
     "execution_count": 71,
     "metadata": {},
     "output_type": "execute_result"
    }
   ],
   "source": [
    "recall_score(y_true=y_test,\n",
    "                y_pred=best_predictions).round(3)"
   ]
  },
  {
   "cell_type": "markdown",
   "id": "76b3ddb9-e4f5-47be-88dd-60c35e330365",
   "metadata": {},
   "source": [
    "Let's check the accuracy of our tuned model"
   ]
  },
  {
   "cell_type": "code",
   "execution_count": 72,
   "id": "a25b79dd-5b46-43b5-9e60-c4c94b58fc1b",
   "metadata": {},
   "outputs": [
    {
     "data": {
      "text/plain": [
       "0.825"
      ]
     },
     "execution_count": 72,
     "metadata": {},
     "output_type": "execute_result"
    }
   ],
   "source": [
    "from sklearn.metrics import accuracy_score\n",
    "\n",
    "accuracy_score(y_true=y_test,\n",
    "               y_pred=best_predictions).round(3)\n"
   ]
  },
  {
   "cell_type": "markdown",
   "id": "d07fef18-3a54-4c18-9020-77614a2ac13f",
   "metadata": {},
   "source": [
    "Now let's compare the performance of our tuned model on the confusion matrix to the one attained during the error analysis."
   ]
  },
  {
   "cell_type": "code",
   "execution_count": 73,
   "id": "e647c01c-7b79-42bb-aea5-1689ace38ea2",
   "metadata": {},
   "outputs": [
    {
     "data": {
      "image/png": "[encoded data removed]",
      "text/plain": [
       "<Figure size 900x400 with 4 Axes>"
      ]
     },
     "metadata": {},
     "output_type": "display_data"
    }
   ],
   "source": [
    "best_y_train_pred = cross_val_predict(estimator=best_svm,\n",
    "                                 X=X_train,\n",
    "                                 y=y_train,\n",
    "                                 cv=3,\n",
    "                                 method='predict')\n",
    "\n",
    "\n",
    "fig, axs = plt.subplots(nrows=1, ncols=2, figsize=(9, 4))\n",
    "plt.rc('font', size=9)\n",
    "ConfusionMatrixDisplay.from_predictions(y_true=y_train,\n",
    "                                        y_pred=y_train_pred,\n",
    "                                        ax=axs[0],\n",
    "                                        normalize='true',\n",
    "                                        values_format=\".0%\")\n",
    "axs[0].set_title(\"CM before tuning\")\n",
    "\n",
    "plt.rc('font', size=10)\n",
    "ConfusionMatrixDisplay.from_predictions(y_true=y_train,\n",
    "                                        y_pred=best_y_train_pred,\n",
    "                                        ax=axs[1],\n",
    "                                        normalize=\"true\",\n",
    "                                        values_format=\".0%\")\n",
    "axs[1].set_title(\"CM after tuning\")\n",
    "\n",
    "\n",
    "plt.show()"
   ]
  },
  {
   "cell_type": "markdown",
   "id": "db43c8ea-ecb7-4ee3-bcb2-3a2a75ab5c63",
   "metadata": {},
   "source": [
    "It can be seen above that our tuned model is now doing better in correctly predicting our positive class. It improved from 77% to 78%.\n",
    "It also improved in predicting the negative class, moving from 85% to 87%."
   ]
  },
  {
   "cell_type": "markdown",
   "id": "b492e2f6-e6ec-4fe3-96d5-2e121419d5fe",
   "metadata": {},
   "source": [
    "Now let's save the model in case we would want to use it later for a similar case. We wouldn't have to retrain the model again."
   ]
  },
  {
   "cell_type": "markdown",
   "id": "994e0191-05cd-46af-b2b7-10411ae5b2d8",
   "metadata": {},
   "source": [
    "### Model Serialization"
   ]
  },
  {
   "cell_type": "code",
   "execution_count": 74,
   "id": "e02aaa52-82ff-4514-ab29-11d80269e979",
   "metadata": {},
   "outputs": [
    {
     "data": {
      "text/plain": [
       "['Restaurant_Review_SVM.pkl']"
      ]
     },
     "execution_count": 74,
     "metadata": {},
     "output_type": "execute_result"
    }
   ],
   "source": [
    "import joblib\n",
    "  \n",
    "saved_model = best_svm\n",
    "file_name = 'Restaurant_Review_SVM.pkl'\n",
    "\n",
    "joblib.dump(saved_model, file_name) "
   ]
  }
 ],
 "metadata": {
  "kernelspec": {
   "display_name": "Python 3 (ipykernel)",
   "language": "python",
   "name": "python3"
  },
  "language_info": {
   "codemirror_mode": {
    "name": "ipython",
    "version": 3
   },
   "file_extension": ".py",
   "mimetype": "text/x-python",
   "name": "python",
   "nbconvert_exporter": "python",
   "pygments_lexer": "ipython3",
   "version": "3.10.12"
  }
 },
 "nbformat": 4,
 "nbformat_minor": 5
}
